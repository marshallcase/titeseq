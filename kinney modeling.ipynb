{
 "cells": [
  {
   "cell_type": "markdown",
   "id": "a09fd221-9aae-462c-9ecf-38179b6d7f7d",
   "metadata": {},
   "source": [
    "# modeling testing - Kinney"
   ]
  },
  {
   "cell_type": "markdown",
   "id": "782365af-a96a-487d-ae03-9d391417b35c",
   "metadata": {},
   "source": [
    "## define imports and get data"
   ]
  },
  {
   "cell_type": "code",
   "execution_count": 119,
   "id": "ec5e1391-8e79-4e49-82d0-cbd940eea1e7",
   "metadata": {},
   "outputs": [],
   "source": [
    "import pandas as pd\n",
    "import os\n",
    "import matplotlib.pyplot as plt\n",
    "import numpy as np\n",
    "from titeseq_functions import *\n",
    "from sklearn.preprocessing import OneHotEncoder\n",
    "from sklearn.model_selection import train_test_split\n",
    "from sklearn import linear_model\n",
    "from sklearn.preprocessing import StandardScaler"
   ]
  },
  {
   "cell_type": "code",
   "execution_count": 120,
   "id": "c85ecba7-623a-4175-aeaa-d11e77d623ab",
   "metadata": {},
   "outputs": [],
   "source": [
    "fit_data_save_location = '/scratch/gthurber_root/gthurber0/marcase/titeseq/fit_data/'\n",
    "binary_data = pd.read_csv(fit_data_save_location+'binary_jbkinney2016.csv')\n",
    "continuous_data = pd.read_csv(fit_data_save_location+'jbkinney_fit_params.csv')"
   ]
  },
  {
   "cell_type": "markdown",
   "id": "032f8456-38a3-4bf4-b46f-070767d6033f",
   "metadata": {},
   "source": [
    "# binary data"
   ]
  },
  {
   "cell_type": "code",
   "execution_count": 121,
   "id": "5bdce36e-44af-49ee-917f-b1593b8c8133",
   "metadata": {},
   "outputs": [],
   "source": [
    "binary_data = binary_data[['CDR1H_AA','CDR3H_AA','fluorescein10^-8bin0_A','fluorescein10^-8bin3_A','fluorescein10^-8bin0_B','fluorescein10^-8bin3_B','fluorescein10^-8bin0_C','fluorescein10^-8bin3_C']]\n",
    "binary_data.index = binary_data['CDR1H_AA'] + '_' + binary_data['CDR3H_AA']\n",
    "binary_data = binary_data.drop(columns=['CDR1H_AA','CDR3H_AA'])\n",
    "binary_data = binary_data.rename(columns={'fluorescein10^-8bin0_A':'low_A','fluorescein10^-8bin3_A':'high_A','fluorescein10^-8bin0_B':'low_B','fluorescein10^-8bin3_B':'high_B','fluorescein10^-8bin0_C':'low_C','fluorescein10^-8bin3_C':'high_C'})\n",
    "positive,negative = generateBinaryDataset(binary_data,data_type='illumina',replicate_cutoff=(2,2),percentile_cutoff=(0.8,0.2),zero_tolerance=True)\n",
    "positive['label'] = 1\n",
    "negative['label'] = 0"
   ]
  },
  {
   "cell_type": "code",
   "execution_count": 122,
   "id": "aecb53e1-4b7c-4d97-a8f0-65a825a334cf",
   "metadata": {},
   "outputs": [
    {
     "data": {
      "text/html": [
       "<div>\n",
       "<style scoped>\n",
       "    .dataframe tbody tr th:only-of-type {\n",
       "        vertical-align: middle;\n",
       "    }\n",
       "\n",
       "    .dataframe tbody tr th {\n",
       "        vertical-align: top;\n",
       "    }\n",
       "\n",
       "    .dataframe thead th {\n",
       "        text-align: right;\n",
       "    }\n",
       "</style>\n",
       "<table border=\"1\" class=\"dataframe\">\n",
       "  <thead>\n",
       "    <tr style=\"text-align: right;\">\n",
       "      <th></th>\n",
       "      <th>mean</th>\n",
       "      <th>label</th>\n",
       "    </tr>\n",
       "  </thead>\n",
       "  <tbody>\n",
       "    <tr>\n",
       "      <th>KYSDYWMNWV_GSYYGMDYWG</th>\n",
       "      <td>137.101548</td>\n",
       "      <td>1</td>\n",
       "    </tr>\n",
       "    <tr>\n",
       "      <th>KFSDYWKNWV_GSYYGMDYWG</th>\n",
       "      <td>7.651430</td>\n",
       "      <td>1</td>\n",
       "    </tr>\n",
       "    <tr>\n",
       "      <th>KFSDYWMNRV_GSYYGMDYWG</th>\n",
       "      <td>9.107354</td>\n",
       "      <td>1</td>\n",
       "    </tr>\n",
       "    <tr>\n",
       "      <th>KFSDYWMNWV_GSYYGMDYWG</th>\n",
       "      <td>23.416217</td>\n",
       "      <td>1</td>\n",
       "    </tr>\n",
       "    <tr>\n",
       "      <th>KFIDYWMNWV_GSYYGMDYWG</th>\n",
       "      <td>45.526543</td>\n",
       "      <td>1</td>\n",
       "    </tr>\n",
       "    <tr>\n",
       "      <th>...</th>\n",
       "      <td>...</td>\n",
       "      <td>...</td>\n",
       "    </tr>\n",
       "    <tr>\n",
       "      <th>LFSDYWMNWV_GSYYGMDYWG</th>\n",
       "      <td>278.686395</td>\n",
       "      <td>1</td>\n",
       "    </tr>\n",
       "    <tr>\n",
       "      <th>LFSGYWMNWV_GSYYGMDYWG</th>\n",
       "      <td>43.109552</td>\n",
       "      <td>1</td>\n",
       "    </tr>\n",
       "    <tr>\n",
       "      <th>FFSDYWMNWC_GSYYGMDYWG</th>\n",
       "      <td>105.884432</td>\n",
       "      <td>1</td>\n",
       "    </tr>\n",
       "    <tr>\n",
       "      <th>LFSDYWMNWV_GSYYGMDYWG</th>\n",
       "      <td>128.198597</td>\n",
       "      <td>1</td>\n",
       "    </tr>\n",
       "    <tr>\n",
       "      <th>FFTDYWMNWV_GSYYGMDYWG</th>\n",
       "      <td>207.386804</td>\n",
       "      <td>1</td>\n",
       "    </tr>\n",
       "  </tbody>\n",
       "</table>\n",
       "<p>694 rows × 2 columns</p>\n",
       "</div>"
      ],
      "text/plain": [
       "                             mean  label\n",
       "KYSDYWMNWV_GSYYGMDYWG  137.101548      1\n",
       "KFSDYWKNWV_GSYYGMDYWG    7.651430      1\n",
       "KFSDYWMNRV_GSYYGMDYWG    9.107354      1\n",
       "KFSDYWMNWV_GSYYGMDYWG   23.416217      1\n",
       "KFIDYWMNWV_GSYYGMDYWG   45.526543      1\n",
       "...                           ...    ...\n",
       "LFSDYWMNWV_GSYYGMDYWG  278.686395      1\n",
       "LFSGYWMNWV_GSYYGMDYWG   43.109552      1\n",
       "FFSDYWMNWC_GSYYGMDYWG  105.884432      1\n",
       "LFSDYWMNWV_GSYYGMDYWG  128.198597      1\n",
       "FFTDYWMNWV_GSYYGMDYWG  207.386804      1\n",
       "\n",
       "[694 rows x 2 columns]"
      ]
     },
     "execution_count": 122,
     "metadata": {},
     "output_type": "execute_result"
    }
   ],
   "source": [
    "positive"
   ]
  },
  {
   "cell_type": "code",
   "execution_count": 123,
   "id": "8b6fd628-ad6c-4cdf-8f1f-37ad3c891574",
   "metadata": {},
   "outputs": [
    {
     "data": {
      "text/html": [
       "<div>\n",
       "<style scoped>\n",
       "    .dataframe tbody tr th:only-of-type {\n",
       "        vertical-align: middle;\n",
       "    }\n",
       "\n",
       "    .dataframe tbody tr th {\n",
       "        vertical-align: top;\n",
       "    }\n",
       "\n",
       "    .dataframe thead th {\n",
       "        text-align: right;\n",
       "    }\n",
       "</style>\n",
       "<table border=\"1\" class=\"dataframe\">\n",
       "  <thead>\n",
       "    <tr style=\"text-align: right;\">\n",
       "      <th></th>\n",
       "      <th>mean</th>\n",
       "      <th>label</th>\n",
       "    </tr>\n",
       "  </thead>\n",
       "  <tbody>\n",
       "    <tr>\n",
       "      <th>NFSDYWENWL_GSYYGMDYWG</th>\n",
       "      <td>0.0</td>\n",
       "      <td>0</td>\n",
       "    </tr>\n",
       "    <tr>\n",
       "      <th>TTSDYWMNDV_GSYYGMDYWG</th>\n",
       "      <td>0.0</td>\n",
       "      <td>0</td>\n",
       "    </tr>\n",
       "    <tr>\n",
       "      <th>TISDGWMNWV_GSYYGMDYWG</th>\n",
       "      <td>0.0</td>\n",
       "      <td>0</td>\n",
       "    </tr>\n",
       "    <tr>\n",
       "      <th>TISDYWMRWV_GSYYGMDYWG</th>\n",
       "      <td>0.0</td>\n",
       "      <td>0</td>\n",
       "    </tr>\n",
       "    <tr>\n",
       "      <th>TQSDYWMNTV_GSYYGMDYWG</th>\n",
       "      <td>0.0</td>\n",
       "      <td>0</td>\n",
       "    </tr>\n",
       "    <tr>\n",
       "      <th>...</th>\n",
       "      <td>...</td>\n",
       "      <td>...</td>\n",
       "    </tr>\n",
       "    <tr>\n",
       "      <th>GRSDKWMNWV_GSYYGMDYWG</th>\n",
       "      <td>0.0</td>\n",
       "      <td>0</td>\n",
       "    </tr>\n",
       "    <tr>\n",
       "      <th>GFSDYWPTWV_GSYYGMDYWG</th>\n",
       "      <td>0.0</td>\n",
       "      <td>0</td>\n",
       "    </tr>\n",
       "    <tr>\n",
       "      <th>GFSDYWMNNV_GSYYGMDYWG</th>\n",
       "      <td>0.0</td>\n",
       "      <td>0</td>\n",
       "    </tr>\n",
       "    <tr>\n",
       "      <th>YFSDYWMNQV_GSYYGMDYWG</th>\n",
       "      <td>0.0</td>\n",
       "      <td>0</td>\n",
       "    </tr>\n",
       "    <tr>\n",
       "      <th>YWSDYWMNWV_GSYYGMDYWG</th>\n",
       "      <td>0.0</td>\n",
       "      <td>0</td>\n",
       "    </tr>\n",
       "  </tbody>\n",
       "</table>\n",
       "<p>144 rows × 2 columns</p>\n",
       "</div>"
      ],
      "text/plain": [
       "                       mean  label\n",
       "NFSDYWENWL_GSYYGMDYWG   0.0      0\n",
       "TTSDYWMNDV_GSYYGMDYWG   0.0      0\n",
       "TISDGWMNWV_GSYYGMDYWG   0.0      0\n",
       "TISDYWMRWV_GSYYGMDYWG   0.0      0\n",
       "TQSDYWMNTV_GSYYGMDYWG   0.0      0\n",
       "...                     ...    ...\n",
       "GRSDKWMNWV_GSYYGMDYWG   0.0      0\n",
       "GFSDYWPTWV_GSYYGMDYWG   0.0      0\n",
       "GFSDYWMNNV_GSYYGMDYWG   0.0      0\n",
       "YFSDYWMNQV_GSYYGMDYWG   0.0      0\n",
       "YWSDYWMNWV_GSYYGMDYWG   0.0      0\n",
       "\n",
       "[144 rows x 2 columns]"
      ]
     },
     "execution_count": 123,
     "metadata": {},
     "output_type": "execute_result"
    }
   ],
   "source": [
    "negative"
   ]
  },
  {
   "cell_type": "code",
   "execution_count": 124,
   "id": "0fc19608-3a6d-4395-a085-7730cd8612c8",
   "metadata": {},
   "outputs": [
    {
     "data": {
      "text/plain": [
       "Index(['TFSDYWMNRV_GSYYGMDYWG', 'TFSDYWMNDV_GSYYGMDYWG'], dtype='object')"
      ]
     },
     "execution_count": 124,
     "metadata": {},
     "output_type": "execute_result"
    }
   ],
   "source": [
    "positive.index.intersection(negative.index)\n",
    "# pd.concat([positive,negative],join='outer',axis=1)"
   ]
  },
  {
   "cell_type": "markdown",
   "id": "573d35a7-28a4-48f2-9985-a2ce30c4f0f9",
   "metadata": {},
   "source": [
    "## onehot encoding"
   ]
  },
  {
   "cell_type": "code",
   "execution_count": null,
   "id": "d4657b01-dfa4-4357-b286-4d001cda7043",
   "metadata": {},
   "outputs": [],
   "source": [
    "enc = OneHotEncoder()\n",
    "seq = np.array(continuous_data.index.values).reshape(-1,1)\n",
    "encoded = enc.fit(seq)\n",
    "X = encoded.transform(seq).toarray()\n",
    "y = continuous_data['Kd'].values"
   ]
  },
  {
   "cell_type": "markdown",
   "id": "d23d182f-3db6-41b6-a93a-66443a13ed5b",
   "metadata": {},
   "source": [
    "# continuous data"
   ]
  },
  {
   "cell_type": "code",
   "execution_count": 33,
   "id": "2450c239-8b5c-4a7e-ab3e-6136d3c64c43",
   "metadata": {},
   "outputs": [
    {
     "data": {
      "text/html": [
       "<div>\n",
       "<style scoped>\n",
       "    .dataframe tbody tr th:only-of-type {\n",
       "        vertical-align: middle;\n",
       "    }\n",
       "\n",
       "    .dataframe tbody tr th {\n",
       "        vertical-align: top;\n",
       "    }\n",
       "\n",
       "    .dataframe thead th {\n",
       "        text-align: right;\n",
       "    }\n",
       "</style>\n",
       "<table border=\"1\" class=\"dataframe\">\n",
       "  <thead>\n",
       "    <tr style=\"text-align: right;\">\n",
       "      <th></th>\n",
       "      <th>Kd</th>\n",
       "    </tr>\n",
       "  </thead>\n",
       "  <tbody>\n",
       "    <tr>\n",
       "      <th>KYSDYWMNWV_GSYYGMDYWG</th>\n",
       "      <td>1.021372e-09</td>\n",
       "    </tr>\n",
       "    <tr>\n",
       "      <th>KCSDYWMNWV_GSYYGMDYWG</th>\n",
       "      <td>3.348775e-06</td>\n",
       "    </tr>\n",
       "    <tr>\n",
       "      <th>KFSDYDMNWV_GSYYGMDYWG</th>\n",
       "      <td>1.000000e-05</td>\n",
       "    </tr>\n",
       "    <tr>\n",
       "      <th>KFSDYSMNWV_GSYYGMDYWG</th>\n",
       "      <td>1.000000e-05</td>\n",
       "    </tr>\n",
       "    <tr>\n",
       "      <th>KFSDYWKNWV_GSYYGMDYWG</th>\n",
       "      <td>7.185173e-06</td>\n",
       "    </tr>\n",
       "    <tr>\n",
       "      <th>...</th>\n",
       "      <td>...</td>\n",
       "    </tr>\n",
       "    <tr>\n",
       "      <th>FRSDYWMNWV_GSYYGMDYWG</th>\n",
       "      <td>1.000000e-05</td>\n",
       "    </tr>\n",
       "    <tr>\n",
       "      <th>FFTDYWMNWV_GSYYGMDYWG</th>\n",
       "      <td>4.647704e-09</td>\n",
       "    </tr>\n",
       "    <tr>\n",
       "      <th>FFSDYWMNHV_GSYYGMDYWG</th>\n",
       "      <td>1.000000e-05</td>\n",
       "    </tr>\n",
       "    <tr>\n",
       "      <th>FFSDYWMNWV_GSYYGMDYWG</th>\n",
       "      <td>3.881699e-09</td>\n",
       "    </tr>\n",
       "    <tr>\n",
       "      <th>FFSDYWMCWV_GSYYGMDYWG</th>\n",
       "      <td>1.000000e-05</td>\n",
       "    </tr>\n",
       "  </tbody>\n",
       "</table>\n",
       "<p>3682 rows × 1 columns</p>\n",
       "</div>"
      ],
      "text/plain": [
       "                                 Kd\n",
       "KYSDYWMNWV_GSYYGMDYWG  1.021372e-09\n",
       "KCSDYWMNWV_GSYYGMDYWG  3.348775e-06\n",
       "KFSDYDMNWV_GSYYGMDYWG  1.000000e-05\n",
       "KFSDYSMNWV_GSYYGMDYWG  1.000000e-05\n",
       "KFSDYWKNWV_GSYYGMDYWG  7.185173e-06\n",
       "...                             ...\n",
       "FRSDYWMNWV_GSYYGMDYWG  1.000000e-05\n",
       "FFTDYWMNWV_GSYYGMDYWG  4.647704e-09\n",
       "FFSDYWMNHV_GSYYGMDYWG  1.000000e-05\n",
       "FFSDYWMNWV_GSYYGMDYWG  3.881699e-09\n",
       "FFSDYWMCWV_GSYYGMDYWG  1.000000e-05\n",
       "\n",
       "[3682 rows x 1 columns]"
      ]
     },
     "execution_count": 33,
     "metadata": {},
     "output_type": "execute_result"
    }
   ],
   "source": [
    "continuous_data.index = continuous_data['CDR1H_AA'] + '_' + continuous_data['CDR3H_AA']\n",
    "continuous_data['Kd'] = continuous_data[['fit_KD_1','fit_KD_2','fit_KD_3']].mean(axis=1)\n",
    "continuous_data = continuous_data[['Kd']]\n",
    "continuous_data"
   ]
  },
  {
   "cell_type": "markdown",
   "id": "08f00b73-11e4-4ee7-b421-875f23675f13",
   "metadata": {},
   "source": [
    "## one hot encoding\n",
    "\n"
   ]
  },
  {
   "cell_type": "code",
   "execution_count": 73,
   "id": "34095098-75c6-4a3a-b81f-67c0a2fa9b08",
   "metadata": {},
   "outputs": [],
   "source": [
    "enc = OneHotEncoder()\n",
    "seq = np.array(continuous_data.index.values).reshape(-1,1)\n",
    "encoded = enc.fit(seq)\n",
    "X = encoded.transform(seq).toarray()\n",
    "y = continuous_data['Kd'].values"
   ]
  },
  {
   "cell_type": "code",
   "execution_count": 75,
   "id": "89de5b17-86a8-4f0d-a539-16776b4a4dd5",
   "metadata": {},
   "outputs": [],
   "source": [
    "#scale output\n",
    "scaler = StandardScaler()\n",
    "y_tr = scaler.fit_transform(y.reshape(-1, 1))"
   ]
  },
  {
   "cell_type": "code",
   "execution_count": 87,
   "id": "17e20b82-d6c8-4a99-ba9f-44b13e17a2d6",
   "metadata": {},
   "outputs": [
    {
     "data": {
      "text/plain": [
       "(3682, 1)"
      ]
     },
     "execution_count": 87,
     "metadata": {},
     "output_type": "execute_result"
    }
   ],
   "source": [
    "X.shape\n",
    "y_tr.shape"
   ]
  },
  {
   "cell_type": "code",
   "execution_count": 88,
   "id": "d882e949-3025-4498-b6fd-13d4b1faa9dc",
   "metadata": {},
   "outputs": [
    {
     "data": {
      "text/plain": [
       "(array([ 863.,   34.,   34.,  149.,   60.,   34.,  213.,   95.,   58.,\n",
       "        2142.]),\n",
       " array([-1.63256996, -1.39386773, -1.15516549, -0.91646326, -0.67776102,\n",
       "        -0.43905878, -0.20035655,  0.03834569,  0.27704793,  0.51575016,\n",
       "         0.7544524 ]),\n",
       " <BarContainer object of 10 artists>)"
      ]
     },
     "execution_count": 88,
     "metadata": {},
     "output_type": "execute_result"
    },
    {
     "data": {
      "image/png": "[encoded data removed]",
      "text/plain": [
       "<Figure size 432x288 with 1 Axes>"
      ]
     },
     "metadata": {
      "needs_background": "light"
     },
     "output_type": "display_data"
    }
   ],
   "source": [
    "plt.hist(y_tr)"
   ]
  },
  {
   "cell_type": "code",
   "execution_count": 78,
   "id": "175d2c13-94a1-48c6-a162-139b5674f7a7",
   "metadata": {},
   "outputs": [],
   "source": [
    "X_train, X_test, y_train, y_test = train_test_split(X, y_tr, test_size=0.3, random_state=42)"
   ]
  },
  {
   "cell_type": "markdown",
   "id": "e4ea7e2e-e271-43b3-80f4-01e6b0a84bfd",
   "metadata": {},
   "source": [
    "## test simple models"
   ]
  },
  {
   "cell_type": "markdown",
   "id": "04ea68a6-036a-466f-85fb-a43fc9c9d6d0",
   "metadata": {},
   "source": [
    "### linear regression"
   ]
  },
  {
   "cell_type": "code",
   "execution_count": 90,
   "id": "99118fb0-4ee9-4bea-9b76-ebbeb73d37a6",
   "metadata": {},
   "outputs": [],
   "source": [
    "reg = linear_model.LinearRegression().fit(X_train, y_train)"
   ]
  },
  {
   "cell_type": "code",
   "execution_count": 91,
   "id": "6b29398c-6fed-4acb-8871-27fbbe0ed4a3",
   "metadata": {},
   "outputs": [
    {
     "data": {
      "text/plain": [
       "Text(0.5, 1.0, 'Training performance')"
      ]
     },
     "execution_count": 91,
     "metadata": {},
     "output_type": "execute_result"
    },
    {
     "data": {
      "image/png": "[encoded data removed]",
      "text/plain": [
       "<Figure size 432x288 with 1 Axes>"
      ]
     },
     "metadata": {
      "needs_background": "light"
     },
     "output_type": "display_data"
    }
   ],
   "source": [
    "y_train_pred = reg.predict(X_train)\n",
    "plt.scatter(y_train,y_train_pred)\n",
    "plt.xlabel('actual scaled Kd')\n",
    "plt.ylabel('predicted scaled Kd')\n",
    "plt.title('Training performance')"
   ]
  },
  {
   "cell_type": "code",
   "execution_count": 92,
   "id": "61f02b5c-dbb0-4891-a79a-a602fd724ad1",
   "metadata": {},
   "outputs": [
    {
     "data": {
      "text/plain": [
       "Text(0.5, 1.0, 'Test performance')"
      ]
     },
     "execution_count": 92,
     "metadata": {},
     "output_type": "execute_result"
    },
    {
     "data": {
      "image/png": "[encoded data removed]",
      "text/plain": [
       "<Figure size 432x288 with 1 Axes>"
      ]
     },
     "metadata": {
      "needs_background": "light"
     },
     "output_type": "display_data"
    }
   ],
   "source": [
    "y_test_pred = reg.predict(X_test)\n",
    "plt.scatter(y_test,y_test_pred)\n",
    "plt.xlabel('actual scaled Kd')\n",
    "plt.ylabel('predicted scaled Kd')\n",
    "plt.title('Test performance')"
   ]
  },
  {
   "cell_type": "markdown",
   "id": "a54992a2-98db-4436-864f-40087d2a56b4",
   "metadata": {
    "tags": []
   },
   "source": [
    "### ridge"
   ]
  },
  {
   "cell_type": "code",
   "execution_count": 95,
   "id": "c1570171-77fe-4b93-b91b-2081e80d62ad",
   "metadata": {},
   "outputs": [],
   "source": [
    "reg = linear_model.Ridge(alpha=0.5).fit(X_train,y_train)"
   ]
  },
  {
   "cell_type": "code",
   "execution_count": 96,
   "id": "79390fde-02eb-4f13-b100-33ce656d4f4b",
   "metadata": {},
   "outputs": [
    {
     "data": {
      "text/plain": [
       "Text(0.5, 1.0, 'Training performance')"
      ]
     },
     "execution_count": 96,
     "metadata": {},
     "output_type": "execute_result"
    },
    {
     "data": {
      "image/png": "[encoded data removed]",
      "text/plain": [
       "<Figure size 432x288 with 1 Axes>"
      ]
     },
     "metadata": {
      "needs_background": "light"
     },
     "output_type": "display_data"
    }
   ],
   "source": [
    "y_train_pred = reg.predict(X_train)\n",
    "plt.scatter(y_train,y_train_pred)\n",
    "plt.xlabel('actual scaled Kd')\n",
    "plt.ylabel('predicted scaled Kd')\n",
    "plt.title('Training performance')"
   ]
  },
  {
   "cell_type": "code",
   "execution_count": 97,
   "id": "63644ecb-4b3a-4afb-b4d8-f5fa0579eb88",
   "metadata": {},
   "outputs": [
    {
     "data": {
      "text/plain": [
       "Text(0.5, 1.0, 'Test performance')"
      ]
     },
     "execution_count": 97,
     "metadata": {},
     "output_type": "execute_result"
    },
    {
     "data": {
      "image/png": "[encoded data removed]",
      "text/plain": [
       "<Figure size 432x288 with 1 Axes>"
      ]
     },
     "metadata": {
      "needs_background": "light"
     },
     "output_type": "display_data"
    }
   ],
   "source": [
    "y_test_pred = reg.predict(X_test)\n",
    "plt.scatter(y_test,y_test_pred)\n",
    "plt.xlabel('actual scaled Kd')\n",
    "plt.ylabel('predicted scaled Kd')\n",
    "plt.title('Test performance')"
   ]
  },
  {
   "cell_type": "markdown",
   "id": "5e34e0f0-e1a6-4e47-a352-6c9df768b463",
   "metadata": {},
   "source": [
    "### lasso"
   ]
  },
  {
   "cell_type": "code",
   "execution_count": 110,
   "id": "98214491-a16b-493a-9fd8-46534426d06f",
   "metadata": {},
   "outputs": [],
   "source": [
    "reg = linear_model.Lasso(alpha=0.00001).fit(X_train,y_train)"
   ]
  },
  {
   "cell_type": "code",
   "execution_count": 111,
   "id": "18a742df-5eb8-4fb6-8ac1-d1fabc7f02aa",
   "metadata": {},
   "outputs": [
    {
     "data": {
      "text/plain": [
       "Text(0.5, 1.0, 'Training performance')"
      ]
     },
     "execution_count": 111,
     "metadata": {},
     "output_type": "execute_result"
    },
    {
     "data": {
      "image/png": "[encoded data removed]",
      "text/plain": [
       "<Figure size 432x288 with 1 Axes>"
      ]
     },
     "metadata": {
      "needs_background": "light"
     },
     "output_type": "display_data"
    }
   ],
   "source": [
    "y_train_pred = reg.predict(X_train)\n",
    "plt.scatter(y_train,y_train_pred)\n",
    "plt.xlabel('actual scaled Kd')\n",
    "plt.ylabel('predicted scaled Kd')\n",
    "plt.title('Training performance')"
   ]
  },
  {
   "cell_type": "code",
   "execution_count": 112,
   "id": "56fa5808-8da1-4c07-8e54-8740440278ae",
   "metadata": {},
   "outputs": [
    {
     "data": {
      "text/plain": [
       "Text(0.5, 1.0, 'Test performance')"
      ]
     },
     "execution_count": 112,
     "metadata": {},
     "output_type": "execute_result"
    },
    {
     "data": {
      "image/png": "[encoded data removed]",
      "text/plain": [
       "<Figure size 432x288 with 1 Axes>"
      ]
     },
     "metadata": {
      "needs_background": "light"
     },
     "output_type": "display_data"
    }
   ],
   "source": [
    "y_test_pred = reg.predict(X_test)\n",
    "plt.scatter(y_test,y_test_pred)\n",
    "plt.xlabel('actual scaled Kd')\n",
    "plt.ylabel('predicted scaled Kd')\n",
    "plt.title('Test performance')"
   ]
  },
  {
   "cell_type": "markdown",
   "id": "39b2d082-5f4f-4a1a-b7d1-ab542f96eb1c",
   "metadata": {},
   "source": []
  },
  {
   "cell_type": "code",
   "execution_count": 113,
   "id": "c19fac7e-70da-42e2-952d-a21431675c82",
   "metadata": {},
   "outputs": [
    {
     "name": "stderr",
     "output_type": "stream",
     "text": [
      "/sw/pkgs/arc/python3.9-anaconda/2021.11/lib/python3.9/site-packages/sklearn/utils/validation.py:63: DataConversionWarning: A column-vector y was passed when a 1d array was expected. Please change the shape of y to (n_samples, ), for example using ravel().\n",
      "  return f(*args, **kwargs)\n"
     ]
    },
    {
     "ename": "ValueError",
     "evalue": "Unknown label type: 'continuous'",
     "output_type": "error",
     "traceback": [
      "\u001b[0;31m---------------------------------------------------------------------------\u001b[0m",
      "\u001b[0;31mValueError\u001b[0m                                Traceback (most recent call last)",
      "\u001b[0;32m/tmp/ipykernel_3487971/3670520311.py\u001b[0m in \u001b[0;36m<module>\u001b[0;34m\u001b[0m\n\u001b[0;32m----> 1\u001b[0;31m \u001b[0mreg\u001b[0m \u001b[0;34m=\u001b[0m \u001b[0mlinear_model\u001b[0m\u001b[0;34m.\u001b[0m\u001b[0mLogisticRegression\u001b[0m\u001b[0;34m(\u001b[0m\u001b[0mrandom_state\u001b[0m\u001b[0;34m=\u001b[0m\u001b[0;36m0\u001b[0m\u001b[0;34m)\u001b[0m\u001b[0;34m.\u001b[0m\u001b[0mfit\u001b[0m\u001b[0;34m(\u001b[0m\u001b[0mX_train\u001b[0m\u001b[0;34m,\u001b[0m\u001b[0my_train\u001b[0m\u001b[0;34m)\u001b[0m\u001b[0;34m\u001b[0m\u001b[0;34m\u001b[0m\u001b[0m\n\u001b[0m",
      "\u001b[0;32m/sw/pkgs/arc/python3.9-anaconda/2021.11/lib/python3.9/site-packages/sklearn/linear_model/_logistic.py\u001b[0m in \u001b[0;36mfit\u001b[0;34m(self, X, y, sample_weight)\u001b[0m\n\u001b[1;32m   1345\u001b[0m                                    \u001b[0morder\u001b[0m\u001b[0;34m=\u001b[0m\u001b[0;34m\"C\"\u001b[0m\u001b[0;34m,\u001b[0m\u001b[0;34m\u001b[0m\u001b[0;34m\u001b[0m\u001b[0m\n\u001b[1;32m   1346\u001b[0m                                    accept_large_sparse=solver != 'liblinear')\n\u001b[0;32m-> 1347\u001b[0;31m         \u001b[0mcheck_classification_targets\u001b[0m\u001b[0;34m(\u001b[0m\u001b[0my\u001b[0m\u001b[0;34m)\u001b[0m\u001b[0;34m\u001b[0m\u001b[0;34m\u001b[0m\u001b[0m\n\u001b[0m\u001b[1;32m   1348\u001b[0m         \u001b[0mself\u001b[0m\u001b[0;34m.\u001b[0m\u001b[0mclasses_\u001b[0m \u001b[0;34m=\u001b[0m \u001b[0mnp\u001b[0m\u001b[0;34m.\u001b[0m\u001b[0munique\u001b[0m\u001b[0;34m(\u001b[0m\u001b[0my\u001b[0m\u001b[0;34m)\u001b[0m\u001b[0;34m\u001b[0m\u001b[0;34m\u001b[0m\u001b[0m\n\u001b[1;32m   1349\u001b[0m \u001b[0;34m\u001b[0m\u001b[0m\n",
      "\u001b[0;32m/sw/pkgs/arc/python3.9-anaconda/2021.11/lib/python3.9/site-packages/sklearn/utils/multiclass.py\u001b[0m in \u001b[0;36mcheck_classification_targets\u001b[0;34m(y)\u001b[0m\n\u001b[1;32m    181\u001b[0m     if y_type not in ['binary', 'multiclass', 'multiclass-multioutput',\n\u001b[1;32m    182\u001b[0m                       'multilabel-indicator', 'multilabel-sequences']:\n\u001b[0;32m--> 183\u001b[0;31m         \u001b[0;32mraise\u001b[0m \u001b[0mValueError\u001b[0m\u001b[0;34m(\u001b[0m\u001b[0;34m\"Unknown label type: %r\"\u001b[0m \u001b[0;34m%\u001b[0m \u001b[0my_type\u001b[0m\u001b[0;34m)\u001b[0m\u001b[0;34m\u001b[0m\u001b[0;34m\u001b[0m\u001b[0m\n\u001b[0m\u001b[1;32m    184\u001b[0m \u001b[0;34m\u001b[0m\u001b[0m\n\u001b[1;32m    185\u001b[0m \u001b[0;34m\u001b[0m\u001b[0m\n",
      "\u001b[0;31mValueError\u001b[0m: Unknown label type: 'continuous'"
     ]
    }
   ],
   "source": []
  },
  {
   "cell_type": "code",
   "execution_count": null,
   "id": "6f3eee4c-856a-4cdb-8f1a-b313ba86ec34",
   "metadata": {},
   "outputs": [],
   "source": []
  }
 ],
 "metadata": {
  "kernelspec": {
   "display_name": "Python 3 (ipykernel)",
   "language": "python",
   "name": "python3"
  },
  "language_info": {
   "codemirror_mode": {
    "name": "ipython",
    "version": 3
   },
   "file_extension": ".py",
   "mimetype": "text/x-python",
   "name": "python",
   "nbconvert_exporter": "python",
   "pygments_lexer": "ipython3",
   "version": "3.9.7"
  }
 },
 "nbformat": 4,
 "nbformat_minor": 5
}
