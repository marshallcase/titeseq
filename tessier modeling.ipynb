{
 "cells": [
  {
   "cell_type": "code",
   "execution_count": 1,
   "id": "51cc7fab-451c-49f3-870f-6db728fed30b",
   "metadata": {},
   "outputs": [
    {
     "name": "stderr",
     "output_type": "stream",
     "text": [
      "/sw/pkgs/arc/python3.9-anaconda/2021.11/lib/python3.9/site-packages/scipy/__init__.py:146: UserWarning: A NumPy version >=1.16.5 and <1.23.0 is required for this version of SciPy (detected version 1.23.1\n",
      "  warnings.warn(f\"A NumPy version >={np_minversion} and <{np_maxversion}\"\n"
     ]
    }
   ],
   "source": [
    "import pandas as pd\n",
    "import os\n",
    "import matplotlib.pyplot as plt\n",
    "import numpy as np\n",
    "from sklearn.discriminant_analysis import LinearDiscriminantAnalysis\n",
    "from sklearn.preprocessing import OneHotEncoder\n",
    "from titeseq_functions import *\n",
    "from titeseq_modeling import *\n",
    "from protein_onehotencoder import ProteinOneHotEncoder"
   ]
  },
  {
   "cell_type": "code",
   "execution_count": 2,
   "id": "a3186046-1c2b-4fd3-a11d-7896ac5bf1d0",
   "metadata": {},
   "outputs": [
    {
     "data": {
      "text/plain": [
       "array([ 32,  49,  54,  55,  56,  98, 100, 103])"
      ]
     },
     "execution_count": 2,
     "metadata": {},
     "output_type": "execute_result"
    }
   ],
   "source": [
    "#get raw data\n",
    "fit_data_save_location = '/scratch/gthurber_root/gthurber0/marcase/titeseq/'\n",
    "binary_data = pd.read_csv(fit_data_save_location+'tessier2022_binary.csv')\n",
    "continuous_data = pd.read_csv(fit_data_save_location+'tessier2022_continuous.csv')\n",
    "varied_sites = np.array([33,50,55,56,57,99,101,104]) - 1\n",
    "varied_sites"
   ]
  },
  {
   "cell_type": "code",
   "execution_count": 3,
   "id": "bb5ebb34-a8e9-48d3-a3ea-f77e239b7ca4",
   "metadata": {},
   "outputs": [
    {
     "data": {
      "text/html": [
       "<div>\n",
       "<style scoped>\n",
       "    .dataframe tbody tr th:only-of-type {\n",
       "        vertical-align: middle;\n",
       "    }\n",
       "\n",
       "    .dataframe tbody tr th {\n",
       "        vertical-align: top;\n",
       "    }\n",
       "\n",
       "    .dataframe thead th {\n",
       "        text-align: right;\n",
       "    }\n",
       "</style>\n",
       "<table border=\"1\" class=\"dataframe\">\n",
       "  <thead>\n",
       "    <tr style=\"text-align: right;\">\n",
       "      <th></th>\n",
       "      <th>VH Sequence</th>\n",
       "      <th>ANT Binding</th>\n",
       "      <th>OVA Binding</th>\n",
       "      <th>sequence</th>\n",
       "    </tr>\n",
       "  </thead>\n",
       "  <tbody>\n",
       "    <tr>\n",
       "      <th>0</th>\n",
       "      <td>QVQLVQSGAEVKKPGASVKVSCKASGYTFTDYYMHWVRQAPGQGLE...</td>\n",
       "      <td>0</td>\n",
       "      <td>1</td>\n",
       "      <td>YRTADVGV</td>\n",
       "    </tr>\n",
       "    <tr>\n",
       "      <th>1</th>\n",
       "      <td>QVQLVQSGAEVKKPGASVKVSCKASGYTFTDYYMHWVRQAPGQGLE...</td>\n",
       "      <td>1</td>\n",
       "      <td>1</td>\n",
       "      <td>YKGGSDVY</td>\n",
       "    </tr>\n",
       "    <tr>\n",
       "      <th>2</th>\n",
       "      <td>QVQLVQSGAEVKKPGASVKVSCKASGYTFTDYFMHWVRQAPGQGLE...</td>\n",
       "      <td>0</td>\n",
       "      <td>1</td>\n",
       "      <td>FKRRSVGA</td>\n",
       "    </tr>\n",
       "    <tr>\n",
       "      <th>3</th>\n",
       "      <td>QVQLVQSGAEVKKPGASVKVSCKASGYTFTDYSMHWVRQAPGQGLE...</td>\n",
       "      <td>1</td>\n",
       "      <td>1</td>\n",
       "      <td>SKAKGAWD</td>\n",
       "    </tr>\n",
       "    <tr>\n",
       "      <th>4</th>\n",
       "      <td>QVQLVQSGAEVKKPGASVKVSCKASGYTFTDYFMHWVRQAPGQGLE...</td>\n",
       "      <td>0</td>\n",
       "      <td>1</td>\n",
       "      <td>FRERNAAA</td>\n",
       "    </tr>\n",
       "    <tr>\n",
       "      <th>...</th>\n",
       "      <td>...</td>\n",
       "      <td>...</td>\n",
       "      <td>...</td>\n",
       "      <td>...</td>\n",
       "    </tr>\n",
       "    <tr>\n",
       "      <th>3995</th>\n",
       "      <td>QVQLVQSGAEVKKPGASVKVSCKASGYTFTDYFMHWVRQAPGQGLE...</td>\n",
       "      <td>0</td>\n",
       "      <td>0</td>\n",
       "      <td>FTEEGAVD</td>\n",
       "    </tr>\n",
       "    <tr>\n",
       "      <th>3996</th>\n",
       "      <td>QVQLVQSGAEVKKPGASVKVSCKASGYTFTDYDMHWVRQAPGQGLE...</td>\n",
       "      <td>0</td>\n",
       "      <td>0</td>\n",
       "      <td>DTTGSDWY</td>\n",
       "    </tr>\n",
       "    <tr>\n",
       "      <th>3997</th>\n",
       "      <td>QVQLVQSGAEVKKPGASVKVSCKASGYTFTDYVMHWVRQAPGQGLE...</td>\n",
       "      <td>0</td>\n",
       "      <td>0</td>\n",
       "      <td>VEKGGSGD</td>\n",
       "    </tr>\n",
       "    <tr>\n",
       "      <th>3998</th>\n",
       "      <td>QVQLVQSGAEVKKPGASVKVSCKASGYTFTDYYMHWVRQAPGQGLE...</td>\n",
       "      <td>0</td>\n",
       "      <td>0</td>\n",
       "      <td>YKAGDDGA</td>\n",
       "    </tr>\n",
       "    <tr>\n",
       "      <th>3999</th>\n",
       "      <td>QVQLVQSGAEVKKPGASVKVSCKASGYTFTDYYMHWVRQAPGQGLE...</td>\n",
       "      <td>0</td>\n",
       "      <td>0</td>\n",
       "      <td>YKTKSDGV</td>\n",
       "    </tr>\n",
       "  </tbody>\n",
       "</table>\n",
       "<p>4000 rows × 4 columns</p>\n",
       "</div>"
      ],
      "text/plain": [
       "                                            VH Sequence  ANT Binding  \\\n",
       "0     QVQLVQSGAEVKKPGASVKVSCKASGYTFTDYYMHWVRQAPGQGLE...            0   \n",
       "1     QVQLVQSGAEVKKPGASVKVSCKASGYTFTDYYMHWVRQAPGQGLE...            1   \n",
       "2     QVQLVQSGAEVKKPGASVKVSCKASGYTFTDYFMHWVRQAPGQGLE...            0   \n",
       "3     QVQLVQSGAEVKKPGASVKVSCKASGYTFTDYSMHWVRQAPGQGLE...            1   \n",
       "4     QVQLVQSGAEVKKPGASVKVSCKASGYTFTDYFMHWVRQAPGQGLE...            0   \n",
       "...                                                 ...          ...   \n",
       "3995  QVQLVQSGAEVKKPGASVKVSCKASGYTFTDYFMHWVRQAPGQGLE...            0   \n",
       "3996  QVQLVQSGAEVKKPGASVKVSCKASGYTFTDYDMHWVRQAPGQGLE...            0   \n",
       "3997  QVQLVQSGAEVKKPGASVKVSCKASGYTFTDYVMHWVRQAPGQGLE...            0   \n",
       "3998  QVQLVQSGAEVKKPGASVKVSCKASGYTFTDYYMHWVRQAPGQGLE...            0   \n",
       "3999  QVQLVQSGAEVKKPGASVKVSCKASGYTFTDYYMHWVRQAPGQGLE...            0   \n",
       "\n",
       "      OVA Binding  sequence  \n",
       "0               1  YRTADVGV  \n",
       "1               1  YKGGSDVY  \n",
       "2               1  FKRRSVGA  \n",
       "3               1  SKAKGAWD  \n",
       "4               1  FRERNAAA  \n",
       "...           ...       ...  \n",
       "3995            0  FTEEGAVD  \n",
       "3996            0  DTTGSDWY  \n",
       "3997            0  VEKGGSGD  \n",
       "3998            0  YKAGDDGA  \n",
       "3999            0  YKTKSDGV  \n",
       "\n",
       "[4000 rows x 4 columns]"
      ]
     },
     "execution_count": 3,
     "metadata": {},
     "output_type": "execute_result"
    }
   ],
   "source": [
    "binary_data = binary_data.loc[:,binary_data.columns[:-1]]\n",
    "binary_data['sequence'] = [getCharsFromString(i,varied_sites) for i in binary_data['VH Sequence']]\n",
    "binary_data"
   ]
  },
  {
   "cell_type": "code",
   "execution_count": 4,
   "id": "b28f9bd3-5172-4013-8408-3eb4434d9afc",
   "metadata": {},
   "outputs": [
    {
     "data": {
      "text/html": [
       "<div>\n",
       "<style scoped>\n",
       "    .dataframe tbody tr th:only-of-type {\n",
       "        vertical-align: middle;\n",
       "    }\n",
       "\n",
       "    .dataframe tbody tr th {\n",
       "        vertical-align: top;\n",
       "    }\n",
       "\n",
       "    .dataframe thead th {\n",
       "        text-align: right;\n",
       "    }\n",
       "</style>\n",
       "<table border=\"1\" class=\"dataframe\">\n",
       "  <thead>\n",
       "    <tr style=\"text-align: right;\">\n",
       "      <th></th>\n",
       "      <th>VH Sequence</th>\n",
       "      <th>ANT Binding</th>\n",
       "      <th>OVA Binding</th>\n",
       "      <th>sequence</th>\n",
       "    </tr>\n",
       "  </thead>\n",
       "  <tbody>\n",
       "    <tr>\n",
       "      <th>0</th>\n",
       "      <td>QVQLVQSGAEVKKPGASVKVSCKASGYTFTDYYMHWVRQAPGQGLE...</td>\n",
       "      <td>0.605333</td>\n",
       "      <td>0.851332</td>\n",
       "      <td>YRAEASGA</td>\n",
       "    </tr>\n",
       "    <tr>\n",
       "      <th>1</th>\n",
       "      <td>QVQLVQSGAEVKKPGASVKVSCKASGYTFTDYYMHWVRQAPGQGLE...</td>\n",
       "      <td>1.178590</td>\n",
       "      <td>1.081846</td>\n",
       "      <td>YRAKGSGA</td>\n",
       "    </tr>\n",
       "    <tr>\n",
       "      <th>2</th>\n",
       "      <td>QVQLVQSGAEVKKPGASVKVSCKASGYTFTDYYMHWVRQAPGQGLE...</td>\n",
       "      <td>1.497664</td>\n",
       "      <td>0.813501</td>\n",
       "      <td>YRAGSSSD</td>\n",
       "    </tr>\n",
       "    <tr>\n",
       "      <th>3</th>\n",
       "      <td>QVQLVQSGAEVKKPGASVKVSCKASGYTFTDYYMHWVRQAPGQGLE...</td>\n",
       "      <td>1.407028</td>\n",
       "      <td>0.820071</td>\n",
       "      <td>YRRGDSGD</td>\n",
       "    </tr>\n",
       "    <tr>\n",
       "      <th>4</th>\n",
       "      <td>QVQLVQSGAEVKKPGASVKVSCKASGYTFTDYSMHWVRQAPGQGLE...</td>\n",
       "      <td>0.915810</td>\n",
       "      <td>0.826149</td>\n",
       "      <td>SKKGGAWV</td>\n",
       "    </tr>\n",
       "    <tr>\n",
       "      <th>...</th>\n",
       "      <td>...</td>\n",
       "      <td>...</td>\n",
       "      <td>...</td>\n",
       "      <td>...</td>\n",
       "    </tr>\n",
       "    <tr>\n",
       "      <th>121</th>\n",
       "      <td>QVQLVQSGAEVKKPGASVKVSCKASGYTFTDYYMHWVRQAPGQGLE...</td>\n",
       "      <td>1.020216</td>\n",
       "      <td>0.558968</td>\n",
       "      <td>YKRGSSLF</td>\n",
       "    </tr>\n",
       "    <tr>\n",
       "      <th>122</th>\n",
       "      <td>QVQLVQSGAEVKKPGASVKVSCKASGYTFTDYYMHWVRQAPGQGLE...</td>\n",
       "      <td>1.137895</td>\n",
       "      <td>0.590936</td>\n",
       "      <td>YRAGGSLY</td>\n",
       "    </tr>\n",
       "    <tr>\n",
       "      <th>123</th>\n",
       "      <td>QVQLVQSGAEVKKPGASVKVSCKASGYTFTDYYMHWVRQAPGQGLE...</td>\n",
       "      <td>1.550090</td>\n",
       "      <td>0.554336</td>\n",
       "      <td>YRGRGAAA</td>\n",
       "    </tr>\n",
       "    <tr>\n",
       "      <th>124</th>\n",
       "      <td>QVQLVQSGAEVKKPGASVKVSCKASGYTFTDYFMHWVRQAPGQGLE...</td>\n",
       "      <td>0.368642</td>\n",
       "      <td>0.481901</td>\n",
       "      <td>FRTGDSSS</td>\n",
       "    </tr>\n",
       "    <tr>\n",
       "      <th>125</th>\n",
       "      <td>QVQLVQSGAEVKKPGASVKVSCKASGYTFTDYYMHWVRQAPGQGLE...</td>\n",
       "      <td>1.000000</td>\n",
       "      <td>1.000000</td>\n",
       "      <td>YRRRGAWY</td>\n",
       "    </tr>\n",
       "  </tbody>\n",
       "</table>\n",
       "<p>126 rows × 4 columns</p>\n",
       "</div>"
      ],
      "text/plain": [
       "                                           VH Sequence  ANT Binding  \\\n",
       "0    QVQLVQSGAEVKKPGASVKVSCKASGYTFTDYYMHWVRQAPGQGLE...     0.605333   \n",
       "1    QVQLVQSGAEVKKPGASVKVSCKASGYTFTDYYMHWVRQAPGQGLE...     1.178590   \n",
       "2    QVQLVQSGAEVKKPGASVKVSCKASGYTFTDYYMHWVRQAPGQGLE...     1.497664   \n",
       "3    QVQLVQSGAEVKKPGASVKVSCKASGYTFTDYYMHWVRQAPGQGLE...     1.407028   \n",
       "4    QVQLVQSGAEVKKPGASVKVSCKASGYTFTDYSMHWVRQAPGQGLE...     0.915810   \n",
       "..                                                 ...          ...   \n",
       "121  QVQLVQSGAEVKKPGASVKVSCKASGYTFTDYYMHWVRQAPGQGLE...     1.020216   \n",
       "122  QVQLVQSGAEVKKPGASVKVSCKASGYTFTDYYMHWVRQAPGQGLE...     1.137895   \n",
       "123  QVQLVQSGAEVKKPGASVKVSCKASGYTFTDYYMHWVRQAPGQGLE...     1.550090   \n",
       "124  QVQLVQSGAEVKKPGASVKVSCKASGYTFTDYFMHWVRQAPGQGLE...     0.368642   \n",
       "125  QVQLVQSGAEVKKPGASVKVSCKASGYTFTDYYMHWVRQAPGQGLE...     1.000000   \n",
       "\n",
       "     OVA Binding  sequence  \n",
       "0       0.851332  YRAEASGA  \n",
       "1       1.081846  YRAKGSGA  \n",
       "2       0.813501  YRAGSSSD  \n",
       "3       0.820071  YRRGDSGD  \n",
       "4       0.826149  SKKGGAWV  \n",
       "..           ...       ...  \n",
       "121     0.558968  YKRGSSLF  \n",
       "122     0.590936  YRAGGSLY  \n",
       "123     0.554336  YRGRGAAA  \n",
       "124     0.481901  FRTGDSSS  \n",
       "125     1.000000  YRRRGAWY  \n",
       "\n",
       "[126 rows x 4 columns]"
      ]
     },
     "execution_count": 4,
     "metadata": {},
     "output_type": "execute_result"
    }
   ],
   "source": [
    "continuous_data = continuous_data[['VH Sequence','ANT Binding', 'OVA Binding']]\n",
    "continuous_data['sequence'] = [getCharsFromString(i,varied_sites) for i in continuous_data['VH Sequence']]\n",
    "continuous_data"
   ]
  },
  {
   "cell_type": "code",
   "execution_count": 5,
   "id": "600a4dc8-3b87-408c-b6b7-9ec4951ae8c3",
   "metadata": {},
   "outputs": [
    {
     "data": {
      "text/plain": [
       "Text(0, 0.5, 'Binding')"
      ]
     },
     "execution_count": 5,
     "metadata": {},
     "output_type": "execute_result"
    },
    {
     "data": {
      "image/png": "[encoded data removed]",
      "text/plain": [
       "<Figure size 432x288 with 1 Axes>"
      ]
     },
     "metadata": {
      "needs_background": "light"
     },
     "output_type": "display_data"
    }
   ],
   "source": [
    "plt.scatter(continuous_data['OVA Binding'],continuous_data['ANT Binding'])\n",
    "plt.xlabel('Non-Specificity')\n",
    "plt.ylabel('Binding')"
   ]
  },
  {
   "cell_type": "code",
   "execution_count": 6,
   "id": "c310248c-f38b-4873-a858-735a2fc742f8",
   "metadata": {},
   "outputs": [
    {
     "data": {
      "text/plain": [
       "<4000x50 sparse matrix of type '<class 'numpy.float64'>'\n",
       "\twith 32000 stored elements in Compressed Sparse Row format>"
      ]
     },
     "execution_count": 6,
     "metadata": {},
     "output_type": "execute_result"
    }
   ],
   "source": [
    "#encode the sequences limited by the binary dataset into one hot encodings and get the corresponding y vectors for both continuous and binary labels\n",
    "all_amino_acids = 'ACDEFGHIKLMNPQRSTVWY'\n",
    "amino_acids = list(set(all_amino_acids))\n",
    "amino_acid_to_index = {aa: i for i, aa in enumerate(amino_acids)}\n",
    "integer_arrays = [np.array([amino_acid_to_index[aa] for aa in sequence]) for sequence in binary_data['sequence']]\n",
    "one_hot_encoder = OneHotEncoder(categories=\"auto\")\n",
    "one_hot_encoded_array = one_hot_encoder.fit_transform(integer_arrays)\n",
    "one_hot_encoded_array"
   ]
  },
  {
   "cell_type": "code",
   "execution_count": 7,
   "id": "24ed0fdb-bdde-41ec-b5af-56abfde2948e",
   "metadata": {},
   "outputs": [],
   "source": [
    "#inverse one hot encode\n",
    "index_to_amino_acid = {v: k for k, v in amino_acid_to_index.items()}\n",
    "inverse_transform_AA = one_hot_encoder.inverse_transform(one_hot_encoded_array)\n",
    "sequence = \"\".join(amino_acids)"
   ]
  },
  {
   "cell_type": "code",
   "execution_count": 8,
   "id": "a704a5f7-7010-4333-9dcc-8db1558ecf07",
   "metadata": {},
   "outputs": [],
   "source": [
    "test=[[index_to_amino_acid[i] for i in j] for j in inverse_transform_AA][:5]"
   ]
  },
  {
   "cell_type": "code",
   "execution_count": 9,
   "id": "a914b765-0b8b-4395-8c51-d11b174851e4",
   "metadata": {},
   "outputs": [
    {
     "data": {
      "text/plain": [
       "['YRTADVGV', 'YKGGSDVY', 'FKRRSVGA', 'SKAKGAWD', 'FRERNAAA']"
      ]
     },
     "execution_count": 9,
     "metadata": {},
     "output_type": "execute_result"
    }
   ],
   "source": [
    "[\"\".join(i) for i in test]"
   ]
  },
  {
   "cell_type": "code",
   "execution_count": 10,
   "id": "e8e02df4-3501-42b5-ac56-a760cf1aefdb",
   "metadata": {},
   "outputs": [],
   "source": [
    "enc = ProteinOneHotEncoder()"
   ]
  },
  {
   "cell_type": "code",
   "execution_count": 11,
   "id": "245b26a9-4dd8-4f03-a279-f3472cdb7bbe",
   "metadata": {},
   "outputs": [],
   "source": [
    "X_tr = enc.fit_transform(binary_data['sequence'])"
   ]
  },
  {
   "cell_type": "code",
   "execution_count": 12,
   "id": "96c46eb3-beec-4113-acda-8d13d670bc74",
   "metadata": {},
   "outputs": [],
   "source": [
    "enc.fit(binary_data['sequence'])\n",
    "X_tr = enc.transform(binary_data['sequence'])"
   ]
  },
  {
   "cell_type": "code",
   "execution_count": 13,
   "id": "bd998b89-d6b8-4730-9060-555d190443d1",
   "metadata": {},
   "outputs": [
    {
     "data": {
      "text/plain": [
       "<4000x50 sparse matrix of type '<class 'numpy.float64'>'\n",
       "\twith 32000 stored elements in Compressed Sparse Row format>"
      ]
     },
     "execution_count": 13,
     "metadata": {},
     "output_type": "execute_result"
    }
   ],
   "source": [
    "X_tr"
   ]
  },
  {
   "cell_type": "code",
   "execution_count": 15,
   "id": "1ff418ae-288e-4e1e-b167-2440135ecff1",
   "metadata": {},
   "outputs": [
    {
     "data": {
      "text/plain": [
       "['YRTADVGV', 'YKGGSDVY', 'FKRRSVGA', 'SKAKGAWD', 'FRERNAAA']"
      ]
     },
     "execution_count": 15,
     "metadata": {},
     "output_type": "execute_result"
    }
   ],
   "source": [
    "enc.inverse_transform(X_tr)[:5]"
   ]
  },
  {
   "cell_type": "code",
   "execution_count": null,
   "id": "f0f9934d-708d-48cd-9500-d56e8469cf4f",
   "metadata": {},
   "outputs": [],
   "source": []
  }
 ],
 "metadata": {
  "kernelspec": {
   "display_name": "Python 3 (ipykernel)",
   "language": "python",
   "name": "python3"
  },
  "language_info": {
   "codemirror_mode": {
    "name": "ipython",
    "version": 3
   },
   "file_extension": ".py",
   "mimetype": "text/x-python",
   "name": "python",
   "nbconvert_exporter": "python",
   "pygments_lexer": "ipython3",
   "version": "3.9.7"
  }
 },
 "nbformat": 4,
 "nbformat_minor": 5
}
