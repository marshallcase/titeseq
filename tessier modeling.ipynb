{
 "cells": [
  {
   "cell_type": "markdown",
   "id": "2659afff-7b21-4d15-8e92-013a8fa385ce",
   "metadata": {},
   "source": [
    "# model tessier nature communications 2022 data"
   ]
  },
  {
   "cell_type": "markdown",
   "id": "57f51eca-b596-45c0-ba73-813422f7d77a",
   "metadata": {},
   "source": [
    "### imports"
   ]
  },
  {
   "cell_type": "code",
   "execution_count": 59,
   "id": "51cc7fab-451c-49f3-870f-6db728fed30b",
   "metadata": {},
   "outputs": [],
   "source": [
    "#standard\n",
    "import pandas as pd\n",
    "import os\n",
    "import matplotlib.pyplot as plt\n",
    "import numpy as np\n",
    "#preprocessing\n",
    "from sklearn.preprocessing import OneHotEncoder\n",
    "#custom\n",
    "from titeseq_functions import *\n",
    "from titeseq_modeling import *\n",
    "from protein_onehotencoder import *\n",
    "#models and metrics\n",
    "from sklearn.discriminant_analysis import LinearDiscriminantAnalysis\n",
    "from sklearn import metrics\n",
    "from sklearn.neighbors import KNeighborsRegressor\n",
    "from sklearn.tree import DecisionTreeClassifier, DecisionTreeRegressor\n",
    "from sklearn.ensemble import RandomForestClassifier, RandomForestRegressor\n",
    "from sklearn import svm\n",
    "from sklearn.discriminant_analysis import LinearDiscriminantAnalysis"
   ]
  },
  {
   "cell_type": "markdown",
   "id": "4d5e0c83-ad5d-45ad-b091-41db072ba4a8",
   "metadata": {},
   "source": [
    "### raw data"
   ]
  },
  {
   "cell_type": "code",
   "execution_count": 5,
   "id": "a3186046-1c2b-4fd3-a11d-7896ac5bf1d0",
   "metadata": {},
   "outputs": [
    {
     "data": {
      "text/plain": [
       "array([ 32,  49,  54,  55,  56,  98, 100, 103])"
      ]
     },
     "execution_count": 5,
     "metadata": {},
     "output_type": "execute_result"
    }
   ],
   "source": [
    "#get raw data\n",
    "fit_data_save_location = '/scratch/gthurber_root/gthurber0/marcase/titeseq/'\n",
    "binary_data = pd.read_csv(fit_data_save_location+'tessier2022_binary.csv')\n",
    "binary_data = binary_data.loc[:,binary_data.columns[:-1]]\n",
    "continuous_data = pd.read_csv(fit_data_save_location+'tessier2022_continuous.csv')\n",
    "varied_sites_manual = np.array([33,50,55,56,57,99,101,104]) - 1 #input varied sites manual as sanity check\n",
    "varied_sites_manual"
   ]
  },
  {
   "cell_type": "markdown",
   "id": "45d109ce-0fe2-41fe-8d67-59ded422bb91",
   "metadata": {},
   "source": [
    "## process data using ProteinOneHotEncoder"
   ]
  },
  {
   "cell_type": "markdown",
   "id": "caf98610-9988-4ad6-ae5e-f50ca848cf1c",
   "metadata": {},
   "source": [
    "### get condensed sequence representation only including varied sites"
   ]
  },
  {
   "cell_type": "code",
   "execution_count": 9,
   "id": "8e521132-5af7-4d3d-a1e1-32c550e69224",
   "metadata": {},
   "outputs": [
    {
     "name": "stdout",
     "output_type": "stream",
     "text": [
      "varied sites as reported: [ 32  49  54  55  56  98 100 103] and varied sites as identified: [ 32  49  54  55  56  98 100 103]\n"
     ]
    }
   ],
   "source": [
    "#minimum number of mutations in a site\n",
    "threshold = 2\n",
    "#minimum number of observed mutations needed to include\n",
    "min_count = 10\n",
    "#get varying sites\n",
    "varied_sites = ProteinOneHotEncoder.get_varying_sites(binary_data['VH Sequence'],threshold=threshold,min_count=min_count)\n",
    "print(f'varied sites as reported: {varied_sites_manual} and varied sites as identified: {varied_sites}')\n",
    "binary_data['sequence'] = ProteinOneHotEncoder.transform_varying_sites(binary_data['VH Sequence'],threshold=threshold,min_count=min_count)"
   ]
  },
  {
   "cell_type": "code",
   "execution_count": 35,
   "id": "fbbcbf66-e385-4f3c-a10c-7cddca4880d2",
   "metadata": {},
   "outputs": [
    {
     "data": {
      "text/html": [
       "<div>\n",
       "<style scoped>\n",
       "    .dataframe tbody tr th:only-of-type {\n",
       "        vertical-align: middle;\n",
       "    }\n",
       "\n",
       "    .dataframe tbody tr th {\n",
       "        vertical-align: top;\n",
       "    }\n",
       "\n",
       "    .dataframe thead th {\n",
       "        text-align: right;\n",
       "    }\n",
       "</style>\n",
       "<table border=\"1\" class=\"dataframe\">\n",
       "  <thead>\n",
       "    <tr style=\"text-align: right;\">\n",
       "      <th></th>\n",
       "      <th>VH Sequence</th>\n",
       "      <th>ANT Binding</th>\n",
       "      <th>OVA Binding</th>\n",
       "      <th>sequence</th>\n",
       "    </tr>\n",
       "  </thead>\n",
       "  <tbody>\n",
       "    <tr>\n",
       "      <th>0</th>\n",
       "      <td>QVQLVQSGAEVKKPGASVKVSCKASGYTFTDYYMHWVRQAPGQGLE...</td>\n",
       "      <td>0</td>\n",
       "      <td>1</td>\n",
       "      <td>YRTADVGV</td>\n",
       "    </tr>\n",
       "    <tr>\n",
       "      <th>1</th>\n",
       "      <td>QVQLVQSGAEVKKPGASVKVSCKASGYTFTDYYMHWVRQAPGQGLE...</td>\n",
       "      <td>1</td>\n",
       "      <td>1</td>\n",
       "      <td>YKGGSDVY</td>\n",
       "    </tr>\n",
       "    <tr>\n",
       "      <th>2</th>\n",
       "      <td>QVQLVQSGAEVKKPGASVKVSCKASGYTFTDYFMHWVRQAPGQGLE...</td>\n",
       "      <td>0</td>\n",
       "      <td>1</td>\n",
       "      <td>FKRRSVGA</td>\n",
       "    </tr>\n",
       "    <tr>\n",
       "      <th>3</th>\n",
       "      <td>QVQLVQSGAEVKKPGASVKVSCKASGYTFTDYSMHWVRQAPGQGLE...</td>\n",
       "      <td>1</td>\n",
       "      <td>1</td>\n",
       "      <td>SKAKGAWD</td>\n",
       "    </tr>\n",
       "    <tr>\n",
       "      <th>4</th>\n",
       "      <td>QVQLVQSGAEVKKPGASVKVSCKASGYTFTDYFMHWVRQAPGQGLE...</td>\n",
       "      <td>0</td>\n",
       "      <td>1</td>\n",
       "      <td>FRERNAAA</td>\n",
       "    </tr>\n",
       "    <tr>\n",
       "      <th>...</th>\n",
       "      <td>...</td>\n",
       "      <td>...</td>\n",
       "      <td>...</td>\n",
       "      <td>...</td>\n",
       "    </tr>\n",
       "    <tr>\n",
       "      <th>3995</th>\n",
       "      <td>QVQLVQSGAEVKKPGASVKVSCKASGYTFTDYFMHWVRQAPGQGLE...</td>\n",
       "      <td>0</td>\n",
       "      <td>0</td>\n",
       "      <td>FTEEGAVD</td>\n",
       "    </tr>\n",
       "    <tr>\n",
       "      <th>3996</th>\n",
       "      <td>QVQLVQSGAEVKKPGASVKVSCKASGYTFTDYDMHWVRQAPGQGLE...</td>\n",
       "      <td>0</td>\n",
       "      <td>0</td>\n",
       "      <td>DTTGSDWY</td>\n",
       "    </tr>\n",
       "    <tr>\n",
       "      <th>3997</th>\n",
       "      <td>QVQLVQSGAEVKKPGASVKVSCKASGYTFTDYVMHWVRQAPGQGLE...</td>\n",
       "      <td>0</td>\n",
       "      <td>0</td>\n",
       "      <td>VEKGGSGD</td>\n",
       "    </tr>\n",
       "    <tr>\n",
       "      <th>3998</th>\n",
       "      <td>QVQLVQSGAEVKKPGASVKVSCKASGYTFTDYYMHWVRQAPGQGLE...</td>\n",
       "      <td>0</td>\n",
       "      <td>0</td>\n",
       "      <td>YKAGDDGA</td>\n",
       "    </tr>\n",
       "    <tr>\n",
       "      <th>3999</th>\n",
       "      <td>QVQLVQSGAEVKKPGASVKVSCKASGYTFTDYYMHWVRQAPGQGLE...</td>\n",
       "      <td>0</td>\n",
       "      <td>0</td>\n",
       "      <td>YKTKSDGV</td>\n",
       "    </tr>\n",
       "  </tbody>\n",
       "</table>\n",
       "<p>4000 rows × 4 columns</p>\n",
       "</div>"
      ],
      "text/plain": [
       "                                            VH Sequence  ANT Binding  \\\n",
       "0     QVQLVQSGAEVKKPGASVKVSCKASGYTFTDYYMHWVRQAPGQGLE...            0   \n",
       "1     QVQLVQSGAEVKKPGASVKVSCKASGYTFTDYYMHWVRQAPGQGLE...            1   \n",
       "2     QVQLVQSGAEVKKPGASVKVSCKASGYTFTDYFMHWVRQAPGQGLE...            0   \n",
       "3     QVQLVQSGAEVKKPGASVKVSCKASGYTFTDYSMHWVRQAPGQGLE...            1   \n",
       "4     QVQLVQSGAEVKKPGASVKVSCKASGYTFTDYFMHWVRQAPGQGLE...            0   \n",
       "...                                                 ...          ...   \n",
       "3995  QVQLVQSGAEVKKPGASVKVSCKASGYTFTDYFMHWVRQAPGQGLE...            0   \n",
       "3996  QVQLVQSGAEVKKPGASVKVSCKASGYTFTDYDMHWVRQAPGQGLE...            0   \n",
       "3997  QVQLVQSGAEVKKPGASVKVSCKASGYTFTDYVMHWVRQAPGQGLE...            0   \n",
       "3998  QVQLVQSGAEVKKPGASVKVSCKASGYTFTDYYMHWVRQAPGQGLE...            0   \n",
       "3999  QVQLVQSGAEVKKPGASVKVSCKASGYTFTDYYMHWVRQAPGQGLE...            0   \n",
       "\n",
       "      OVA Binding  sequence  \n",
       "0               1  YRTADVGV  \n",
       "1               1  YKGGSDVY  \n",
       "2               1  FKRRSVGA  \n",
       "3               1  SKAKGAWD  \n",
       "4               1  FRERNAAA  \n",
       "...           ...       ...  \n",
       "3995            0  FTEEGAVD  \n",
       "3996            0  DTTGSDWY  \n",
       "3997            0  VEKGGSGD  \n",
       "3998            0  YKAGDDGA  \n",
       "3999            0  YKTKSDGV  \n",
       "\n",
       "[4000 rows x 4 columns]"
      ]
     },
     "execution_count": 35,
     "metadata": {},
     "output_type": "execute_result"
    }
   ],
   "source": [
    "binary_data"
   ]
  },
  {
   "cell_type": "markdown",
   "id": "8b025581-1f58-486e-95dc-ae00042fc1d2",
   "metadata": {},
   "source": [
    "### one hot encode compressed sequences"
   ]
  },
  {
   "cell_type": "code",
   "execution_count": 13,
   "id": "fe9d6d7f-0aa5-469c-987b-0949f343d167",
   "metadata": {},
   "outputs": [
    {
     "data": {
      "text/plain": [
       "<4000x50 sparse matrix of type '<class 'numpy.float64'>'\n",
       "\twith 32000 stored elements in Compressed Sparse Row format>"
      ]
     },
     "execution_count": 13,
     "metadata": {},
     "output_type": "execute_result"
    }
   ],
   "source": [
    "#one hot encode sequences\n",
    "enc = ProteinOneHotEncoder()\n",
    "X_encoded = enc.fit_transform(binary_data['sequence'])\n",
    "X_encoded"
   ]
  },
  {
   "cell_type": "markdown",
   "id": "9ecfc3b9-376c-4aa0-89e7-70e311a36660",
   "metadata": {},
   "source": [
    "### inverse transform"
   ]
  },
  {
   "cell_type": "code",
   "execution_count": 15,
   "id": "e1f0ed75-0d59-4542-8f02-fbac2798a4e8",
   "metadata": {},
   "outputs": [
    {
     "data": {
      "text/plain": [
       "['YRTADVGV', 'YKGGSDVY', 'FKRRSVGA', 'SKAKGAWD', 'FRERNAAA']"
      ]
     },
     "execution_count": 15,
     "metadata": {},
     "output_type": "execute_result"
    }
   ],
   "source": [
    "enc.inverse_transform(X_encoded)[:5]"
   ]
  },
  {
   "cell_type": "markdown",
   "id": "81ecf4a5-dec9-4b5a-82d2-abbc892c4297",
   "metadata": {},
   "source": [
    "### get label"
   ]
  },
  {
   "cell_type": "code",
   "execution_count": 36,
   "id": "7181a815-1b0b-45d8-86f3-5e60fd368687",
   "metadata": {},
   "outputs": [],
   "source": [
    "y_binary = binary_data['ANT Binding']"
   ]
  },
  {
   "cell_type": "markdown",
   "id": "ddc102f5-8ed6-4700-81e4-e80fbc7b2bb4",
   "metadata": {},
   "source": [
    "## model data"
   ]
  },
  {
   "cell_type": "code",
   "execution_count": 37,
   "id": "817e507f-59c6-4c7f-9ab3-2f0ab5948459",
   "metadata": {},
   "outputs": [
    {
     "name": "stdout",
     "output_type": "stream",
     "text": [
      "Shape of X is (4000, 50) shape of binary y is (4000,)\n"
     ]
    }
   ],
   "source": [
    "print(f'Shape of X is {X_encoded.shape} shape of binary y is {y_binary.shape}')"
   ]
  },
  {
   "cell_type": "code",
   "execution_count": 54,
   "id": "addea39b-d9aa-457d-92c9-8825c193a0d1",
   "metadata": {},
   "outputs": [
    {
     "data": {
      "image/png": "[encoded data removed]",
      "text/plain": [
       "<Figure size 432x288 with 1 Axes>"
      ]
     },
     "metadata": {
      "needs_background": "light"
     },
     "output_type": "display_data"
    }
   ],
   "source": [
    "#make up some continuous data for compatibility with the ModelTester class\n",
    "y_continuous_fake = np.random.normal(0,1,X_encoded.shape[0])\n",
    "\n",
    "#plot fake distribution\n",
    "plt.subplot()\n",
    "hist, bins, _ = plt.hist(y_continuous_fake, bins=20)"
   ]
  },
  {
   "cell_type": "code",
   "execution_count": 56,
   "id": "8ce06986-70ef-47d7-96d3-68e5ccaa3d26",
   "metadata": {},
   "outputs": [
    {
     "data": {
      "text/plain": [
       "Text(0.5, 0, '(fake) continuous target value')"
      ]
     },
     "execution_count": 56,
     "metadata": {},
     "output_type": "execute_result"
    },
    {
     "data": {
      "image/png": "[encoded data removed]",
      "text/plain": [
       "<Figure size 432x288 with 1 Axes>"
      ]
     },
     "metadata": {
      "needs_background": "light"
     },
     "output_type": "display_data"
    }
   ],
   "source": [
    "plt.scatter(y_continuous_fake,y_binary) #box and whisker? or shift the data points with some noise to see the density\n",
    "plt.ylabel('discrete target value')\n",
    "plt.xlabel('(fake) continuous target value')"
   ]
  },
  {
   "cell_type": "code",
   "execution_count": 60,
   "id": "09fb8310-d669-4000-be72-28008bad390f",
   "metadata": {},
   "outputs": [
    {
     "name": "stdout",
     "output_type": "stream",
     "text": [
      "Binary mode : LinearRegression: 0.64\n",
      "Continuous mode : LinearRegression: -0.01\n",
      "Binary mode : Ridge: 0.64\n",
      "Continuous mode : Ridge: -0.01\n",
      "Binary mode : Lasso: 0.61\n",
      "Continuous mode : Lasso: -0.00\n",
      "Binary mode : SVR: 0.75\n",
      "Continuous mode : SVR: -0.10\n",
      "Binary mode : KNeighborsRegressor: 0.59\n",
      "Continuous mode : KNeighborsRegressor: -0.22\n",
      "Binary mode : DecisionTreeRegressor: 0.58\n",
      "Continuous mode : DecisionTreeRegressor: -1.20\n",
      "Binary mode : RandomForestRegressor: 0.76\n",
      "Continuous mode : RandomForestRegressor: -0.11\n"
     ]
    }
   ],
   "source": [
    "#test regression models potential of modeling classification tasks and regression tasks\n",
    "tester = ModelTester(X_encoded, y_binary,y_continuous_fake)\n",
    "models = [linear_model.LinearRegression(),linear_model.Ridge(alpha=0.5),linear_model.Lasso(alpha=0.01),svm.SVR(),KNeighborsRegressor(), DecisionTreeRegressor(), RandomForestRegressor()]\n",
    "tester.test_models(models)"
   ]
  },
  {
   "cell_type": "markdown",
   "id": "5ba600f4-55b1-44d5-889d-fc41f35d3aa7",
   "metadata": {
    "jp-MarkdownHeadingCollapsed": true,
    "tags": []
   },
   "source": [
    "# go through the process manually"
   ]
  },
  {
   "cell_type": "code",
   "execution_count": null,
   "id": "18ffe913-062c-45d8-ac0c-cc3aa726bb93",
   "metadata": {},
   "outputs": [],
   "source": []
  },
  {
   "cell_type": "code",
   "execution_count": 16,
   "id": "bb5ebb34-a8e9-48d3-a3ea-f77e239b7ca4",
   "metadata": {},
   "outputs": [
    {
     "data": {
      "text/html": [
       "<div>\n",
       "<style scoped>\n",
       "    .dataframe tbody tr th:only-of-type {\n",
       "        vertical-align: middle;\n",
       "    }\n",
       "\n",
       "    .dataframe tbody tr th {\n",
       "        vertical-align: top;\n",
       "    }\n",
       "\n",
       "    .dataframe thead th {\n",
       "        text-align: right;\n",
       "    }\n",
       "</style>\n",
       "<table border=\"1\" class=\"dataframe\">\n",
       "  <thead>\n",
       "    <tr style=\"text-align: right;\">\n",
       "      <th></th>\n",
       "      <th>VH Sequence</th>\n",
       "      <th>ANT Binding</th>\n",
       "      <th>OVA Binding</th>\n",
       "      <th>sequence</th>\n",
       "    </tr>\n",
       "  </thead>\n",
       "  <tbody>\n",
       "    <tr>\n",
       "      <th>0</th>\n",
       "      <td>QVQLVQSGAEVKKPGASVKVSCKASGYTFTDYYMHWVRQAPGQGLE...</td>\n",
       "      <td>0</td>\n",
       "      <td>1</td>\n",
       "      <td>YRTADVGV</td>\n",
       "    </tr>\n",
       "    <tr>\n",
       "      <th>1</th>\n",
       "      <td>QVQLVQSGAEVKKPGASVKVSCKASGYTFTDYYMHWVRQAPGQGLE...</td>\n",
       "      <td>1</td>\n",
       "      <td>1</td>\n",
       "      <td>YKGGSDVY</td>\n",
       "    </tr>\n",
       "    <tr>\n",
       "      <th>2</th>\n",
       "      <td>QVQLVQSGAEVKKPGASVKVSCKASGYTFTDYFMHWVRQAPGQGLE...</td>\n",
       "      <td>0</td>\n",
       "      <td>1</td>\n",
       "      <td>FKRRSVGA</td>\n",
       "    </tr>\n",
       "    <tr>\n",
       "      <th>3</th>\n",
       "      <td>QVQLVQSGAEVKKPGASVKVSCKASGYTFTDYSMHWVRQAPGQGLE...</td>\n",
       "      <td>1</td>\n",
       "      <td>1</td>\n",
       "      <td>SKAKGAWD</td>\n",
       "    </tr>\n",
       "    <tr>\n",
       "      <th>4</th>\n",
       "      <td>QVQLVQSGAEVKKPGASVKVSCKASGYTFTDYFMHWVRQAPGQGLE...</td>\n",
       "      <td>0</td>\n",
       "      <td>1</td>\n",
       "      <td>FRERNAAA</td>\n",
       "    </tr>\n",
       "    <tr>\n",
       "      <th>...</th>\n",
       "      <td>...</td>\n",
       "      <td>...</td>\n",
       "      <td>...</td>\n",
       "      <td>...</td>\n",
       "    </tr>\n",
       "    <tr>\n",
       "      <th>3995</th>\n",
       "      <td>QVQLVQSGAEVKKPGASVKVSCKASGYTFTDYFMHWVRQAPGQGLE...</td>\n",
       "      <td>0</td>\n",
       "      <td>0</td>\n",
       "      <td>FTEEGAVD</td>\n",
       "    </tr>\n",
       "    <tr>\n",
       "      <th>3996</th>\n",
       "      <td>QVQLVQSGAEVKKPGASVKVSCKASGYTFTDYDMHWVRQAPGQGLE...</td>\n",
       "      <td>0</td>\n",
       "      <td>0</td>\n",
       "      <td>DTTGSDWY</td>\n",
       "    </tr>\n",
       "    <tr>\n",
       "      <th>3997</th>\n",
       "      <td>QVQLVQSGAEVKKPGASVKVSCKASGYTFTDYVMHWVRQAPGQGLE...</td>\n",
       "      <td>0</td>\n",
       "      <td>0</td>\n",
       "      <td>VEKGGSGD</td>\n",
       "    </tr>\n",
       "    <tr>\n",
       "      <th>3998</th>\n",
       "      <td>QVQLVQSGAEVKKPGASVKVSCKASGYTFTDYYMHWVRQAPGQGLE...</td>\n",
       "      <td>0</td>\n",
       "      <td>0</td>\n",
       "      <td>YKAGDDGA</td>\n",
       "    </tr>\n",
       "    <tr>\n",
       "      <th>3999</th>\n",
       "      <td>QVQLVQSGAEVKKPGASVKVSCKASGYTFTDYYMHWVRQAPGQGLE...</td>\n",
       "      <td>0</td>\n",
       "      <td>0</td>\n",
       "      <td>YKTKSDGV</td>\n",
       "    </tr>\n",
       "  </tbody>\n",
       "</table>\n",
       "<p>4000 rows × 4 columns</p>\n",
       "</div>"
      ],
      "text/plain": [
       "                                            VH Sequence  ANT Binding  \\\n",
       "0     QVQLVQSGAEVKKPGASVKVSCKASGYTFTDYYMHWVRQAPGQGLE...            0   \n",
       "1     QVQLVQSGAEVKKPGASVKVSCKASGYTFTDYYMHWVRQAPGQGLE...            1   \n",
       "2     QVQLVQSGAEVKKPGASVKVSCKASGYTFTDYFMHWVRQAPGQGLE...            0   \n",
       "3     QVQLVQSGAEVKKPGASVKVSCKASGYTFTDYSMHWVRQAPGQGLE...            1   \n",
       "4     QVQLVQSGAEVKKPGASVKVSCKASGYTFTDYFMHWVRQAPGQGLE...            0   \n",
       "...                                                 ...          ...   \n",
       "3995  QVQLVQSGAEVKKPGASVKVSCKASGYTFTDYFMHWVRQAPGQGLE...            0   \n",
       "3996  QVQLVQSGAEVKKPGASVKVSCKASGYTFTDYDMHWVRQAPGQGLE...            0   \n",
       "3997  QVQLVQSGAEVKKPGASVKVSCKASGYTFTDYVMHWVRQAPGQGLE...            0   \n",
       "3998  QVQLVQSGAEVKKPGASVKVSCKASGYTFTDYYMHWVRQAPGQGLE...            0   \n",
       "3999  QVQLVQSGAEVKKPGASVKVSCKASGYTFTDYYMHWVRQAPGQGLE...            0   \n",
       "\n",
       "      OVA Binding  sequence  \n",
       "0               1  YRTADVGV  \n",
       "1               1  YKGGSDVY  \n",
       "2               1  FKRRSVGA  \n",
       "3               1  SKAKGAWD  \n",
       "4               1  FRERNAAA  \n",
       "...           ...       ...  \n",
       "3995            0  FTEEGAVD  \n",
       "3996            0  DTTGSDWY  \n",
       "3997            0  VEKGGSGD  \n",
       "3998            0  YKAGDDGA  \n",
       "3999            0  YKTKSDGV  \n",
       "\n",
       "[4000 rows x 4 columns]"
      ]
     },
     "execution_count": 16,
     "metadata": {},
     "output_type": "execute_result"
    }
   ],
   "source": [
    "#get compressed sequence form manually\n",
    "binary_data = binary_data.loc[:,binary_data.columns[:-1]]\n",
    "binary_data['sequence'] = [getCharsFromString(i,varied_sites) for i in binary_data['VH Sequence']]\n",
    "binary_data"
   ]
  },
  {
   "cell_type": "code",
   "execution_count": 17,
   "id": "b28f9bd3-5172-4013-8408-3eb4434d9afc",
   "metadata": {},
   "outputs": [
    {
     "data": {
      "text/html": [
       "<div>\n",
       "<style scoped>\n",
       "    .dataframe tbody tr th:only-of-type {\n",
       "        vertical-align: middle;\n",
       "    }\n",
       "\n",
       "    .dataframe tbody tr th {\n",
       "        vertical-align: top;\n",
       "    }\n",
       "\n",
       "    .dataframe thead th {\n",
       "        text-align: right;\n",
       "    }\n",
       "</style>\n",
       "<table border=\"1\" class=\"dataframe\">\n",
       "  <thead>\n",
       "    <tr style=\"text-align: right;\">\n",
       "      <th></th>\n",
       "      <th>VH Sequence</th>\n",
       "      <th>ANT Binding</th>\n",
       "      <th>OVA Binding</th>\n",
       "      <th>sequence</th>\n",
       "    </tr>\n",
       "  </thead>\n",
       "  <tbody>\n",
       "    <tr>\n",
       "      <th>0</th>\n",
       "      <td>QVQLVQSGAEVKKPGASVKVSCKASGYTFTDYYMHWVRQAPGQGLE...</td>\n",
       "      <td>0.605333</td>\n",
       "      <td>0.851332</td>\n",
       "      <td>YRAEASGA</td>\n",
       "    </tr>\n",
       "    <tr>\n",
       "      <th>1</th>\n",
       "      <td>QVQLVQSGAEVKKPGASVKVSCKASGYTFTDYYMHWVRQAPGQGLE...</td>\n",
       "      <td>1.178590</td>\n",
       "      <td>1.081846</td>\n",
       "      <td>YRAKGSGA</td>\n",
       "    </tr>\n",
       "    <tr>\n",
       "      <th>2</th>\n",
       "      <td>QVQLVQSGAEVKKPGASVKVSCKASGYTFTDYYMHWVRQAPGQGLE...</td>\n",
       "      <td>1.497664</td>\n",
       "      <td>0.813501</td>\n",
       "      <td>YRAGSSSD</td>\n",
       "    </tr>\n",
       "    <tr>\n",
       "      <th>3</th>\n",
       "      <td>QVQLVQSGAEVKKPGASVKVSCKASGYTFTDYYMHWVRQAPGQGLE...</td>\n",
       "      <td>1.407028</td>\n",
       "      <td>0.820071</td>\n",
       "      <td>YRRGDSGD</td>\n",
       "    </tr>\n",
       "    <tr>\n",
       "      <th>4</th>\n",
       "      <td>QVQLVQSGAEVKKPGASVKVSCKASGYTFTDYSMHWVRQAPGQGLE...</td>\n",
       "      <td>0.915810</td>\n",
       "      <td>0.826149</td>\n",
       "      <td>SKKGGAWV</td>\n",
       "    </tr>\n",
       "    <tr>\n",
       "      <th>...</th>\n",
       "      <td>...</td>\n",
       "      <td>...</td>\n",
       "      <td>...</td>\n",
       "      <td>...</td>\n",
       "    </tr>\n",
       "    <tr>\n",
       "      <th>121</th>\n",
       "      <td>QVQLVQSGAEVKKPGASVKVSCKASGYTFTDYYMHWVRQAPGQGLE...</td>\n",
       "      <td>1.020216</td>\n",
       "      <td>0.558968</td>\n",
       "      <td>YKRGSSLF</td>\n",
       "    </tr>\n",
       "    <tr>\n",
       "      <th>122</th>\n",
       "      <td>QVQLVQSGAEVKKPGASVKVSCKASGYTFTDYYMHWVRQAPGQGLE...</td>\n",
       "      <td>1.137895</td>\n",
       "      <td>0.590936</td>\n",
       "      <td>YRAGGSLY</td>\n",
       "    </tr>\n",
       "    <tr>\n",
       "      <th>123</th>\n",
       "      <td>QVQLVQSGAEVKKPGASVKVSCKASGYTFTDYYMHWVRQAPGQGLE...</td>\n",
       "      <td>1.550090</td>\n",
       "      <td>0.554336</td>\n",
       "      <td>YRGRGAAA</td>\n",
       "    </tr>\n",
       "    <tr>\n",
       "      <th>124</th>\n",
       "      <td>QVQLVQSGAEVKKPGASVKVSCKASGYTFTDYFMHWVRQAPGQGLE...</td>\n",
       "      <td>0.368642</td>\n",
       "      <td>0.481901</td>\n",
       "      <td>FRTGDSSS</td>\n",
       "    </tr>\n",
       "    <tr>\n",
       "      <th>125</th>\n",
       "      <td>QVQLVQSGAEVKKPGASVKVSCKASGYTFTDYYMHWVRQAPGQGLE...</td>\n",
       "      <td>1.000000</td>\n",
       "      <td>1.000000</td>\n",
       "      <td>YRRRGAWY</td>\n",
       "    </tr>\n",
       "  </tbody>\n",
       "</table>\n",
       "<p>126 rows × 4 columns</p>\n",
       "</div>"
      ],
      "text/plain": [
       "                                           VH Sequence  ANT Binding  \\\n",
       "0    QVQLVQSGAEVKKPGASVKVSCKASGYTFTDYYMHWVRQAPGQGLE...     0.605333   \n",
       "1    QVQLVQSGAEVKKPGASVKVSCKASGYTFTDYYMHWVRQAPGQGLE...     1.178590   \n",
       "2    QVQLVQSGAEVKKPGASVKVSCKASGYTFTDYYMHWVRQAPGQGLE...     1.497664   \n",
       "3    QVQLVQSGAEVKKPGASVKVSCKASGYTFTDYYMHWVRQAPGQGLE...     1.407028   \n",
       "4    QVQLVQSGAEVKKPGASVKVSCKASGYTFTDYSMHWVRQAPGQGLE...     0.915810   \n",
       "..                                                 ...          ...   \n",
       "121  QVQLVQSGAEVKKPGASVKVSCKASGYTFTDYYMHWVRQAPGQGLE...     1.020216   \n",
       "122  QVQLVQSGAEVKKPGASVKVSCKASGYTFTDYYMHWVRQAPGQGLE...     1.137895   \n",
       "123  QVQLVQSGAEVKKPGASVKVSCKASGYTFTDYYMHWVRQAPGQGLE...     1.550090   \n",
       "124  QVQLVQSGAEVKKPGASVKVSCKASGYTFTDYFMHWVRQAPGQGLE...     0.368642   \n",
       "125  QVQLVQSGAEVKKPGASVKVSCKASGYTFTDYYMHWVRQAPGQGLE...     1.000000   \n",
       "\n",
       "     OVA Binding  sequence  \n",
       "0       0.851332  YRAEASGA  \n",
       "1       1.081846  YRAKGSGA  \n",
       "2       0.813501  YRAGSSSD  \n",
       "3       0.820071  YRRGDSGD  \n",
       "4       0.826149  SKKGGAWV  \n",
       "..           ...       ...  \n",
       "121     0.558968  YKRGSSLF  \n",
       "122     0.590936  YRAGGSLY  \n",
       "123     0.554336  YRGRGAAA  \n",
       "124     0.481901  FRTGDSSS  \n",
       "125     1.000000  YRRRGAWY  \n",
       "\n",
       "[126 rows x 4 columns]"
      ]
     },
     "execution_count": 17,
     "metadata": {},
     "output_type": "execute_result"
    }
   ],
   "source": [
    "#get compressed form for continuous data set\n",
    "continuous_data = continuous_data[['VH Sequence','ANT Binding', 'OVA Binding']]\n",
    "continuous_data['sequence'] = [getCharsFromString(i,varied_sites) for i in continuous_data['VH Sequence']]\n",
    "continuous_data"
   ]
  },
  {
   "cell_type": "code",
   "execution_count": 18,
   "id": "600a4dc8-3b87-408c-b6b7-9ec4951ae8c3",
   "metadata": {},
   "outputs": [
    {
     "data": {
      "text/plain": [
       "Text(0, 0.5, 'Binding')"
      ]
     },
     "execution_count": 18,
     "metadata": {},
     "output_type": "execute_result"
    },
    {
     "data": {
      "image/png": "[encoded data removed]",
      "text/plain": [
       "<Figure size 432x288 with 1 Axes>"
      ]
     },
     "metadata": {
      "needs_background": "light"
     },
     "output_type": "display_data"
    }
   ],
   "source": [
    "#plot affinity versus specificity for continuous dataset\n",
    "plt.scatter(continuous_data['OVA Binding'],continuous_data['ANT Binding'])\n",
    "plt.xlabel('Non-Specificity')\n",
    "plt.ylabel('Binding')"
   ]
  },
  {
   "cell_type": "code",
   "execution_count": 19,
   "id": "c310248c-f38b-4873-a858-735a2fc742f8",
   "metadata": {},
   "outputs": [
    {
     "data": {
      "text/plain": [
       "<4000x50 sparse matrix of type '<class 'numpy.float64'>'\n",
       "\twith 32000 stored elements in Compressed Sparse Row format>"
      ]
     },
     "execution_count": 19,
     "metadata": {},
     "output_type": "execute_result"
    }
   ],
   "source": [
    "#encode the sequences limited by the binary dataset into one hot encodings and get the corresponding y vectors for both continuous and binary labels\n",
    "all_amino_acids = 'ACDEFGHIKLMNPQRSTVWY'\n",
    "amino_acids = list(set(all_amino_acids))\n",
    "amino_acid_to_index = {aa: i for i, aa in enumerate(amino_acids)}\n",
    "integer_arrays = [np.array([amino_acid_to_index[aa] for aa in sequence]) for sequence in binary_data['sequence']]\n",
    "one_hot_encoder = OneHotEncoder(categories=\"auto\")\n",
    "one_hot_encoded_array = one_hot_encoder.fit_transform(integer_arrays)\n",
    "one_hot_encoded_array"
   ]
  },
  {
   "cell_type": "code",
   "execution_count": 20,
   "id": "24ed0fdb-bdde-41ec-b5af-56abfde2948e",
   "metadata": {},
   "outputs": [],
   "source": [
    "#inverse one hot encode\n",
    "index_to_amino_acid = {v: k for k, v in amino_acid_to_index.items()}\n",
    "inverse_transform_AA = one_hot_encoder.inverse_transform(one_hot_encoded_array)\n",
    "sequence = \"\".join(amino_acids)"
   ]
  },
  {
   "cell_type": "code",
   "execution_count": 21,
   "id": "a704a5f7-7010-4333-9dcc-8db1558ecf07",
   "metadata": {},
   "outputs": [
    {
     "data": {
      "text/plain": [
       "[['Y', 'R', 'T', 'A', 'D', 'V', 'G', 'V'],\n",
       " ['Y', 'K', 'G', 'G', 'S', 'D', 'V', 'Y'],\n",
       " ['F', 'K', 'R', 'R', 'S', 'V', 'G', 'A'],\n",
       " ['S', 'K', 'A', 'K', 'G', 'A', 'W', 'D'],\n",
       " ['F', 'R', 'E', 'R', 'N', 'A', 'A', 'A']]"
      ]
     },
     "execution_count": 21,
     "metadata": {},
     "output_type": "execute_result"
    }
   ],
   "source": [
    "test=[[index_to_amino_acid[i] for i in j] for j in inverse_transform_AA][:5]\n",
    "test"
   ]
  },
  {
   "cell_type": "code",
   "execution_count": 22,
   "id": "a914b765-0b8b-4395-8c51-d11b174851e4",
   "metadata": {},
   "outputs": [
    {
     "data": {
      "text/plain": [
       "['YRTADVGV', 'YKGGSDVY', 'FKRRSVGA', 'SKAKGAWD', 'FRERNAAA']"
      ]
     },
     "execution_count": 22,
     "metadata": {},
     "output_type": "execute_result"
    }
   ],
   "source": [
    "[\"\".join(i) for i in test]"
   ]
  },
  {
   "cell_type": "code",
   "execution_count": 23,
   "id": "e8e02df4-3501-42b5-ac56-a760cf1aefdb",
   "metadata": {},
   "outputs": [],
   "source": [
    "#test new protein one hot encoder\n",
    "enc = ProteinOneHotEncoder()"
   ]
  },
  {
   "cell_type": "code",
   "execution_count": 24,
   "id": "9b4f0968-ddb4-4a1b-b7df-b7a5242c5d34",
   "metadata": {},
   "outputs": [],
   "source": [
    "#test getting positions that vary based on threshold\n",
    "differing_positions_threshold = ProteinOneHotEncoder.get_varying_sites(binary_data['VH Sequence'],threshold=1)"
   ]
  },
  {
   "cell_type": "code",
   "execution_count": 25,
   "id": "247e8139-1cea-4fb1-bdd9-dabaa5db881b",
   "metadata": {},
   "outputs": [],
   "source": [
    "#test getting positions that vary based on minimum count observed\n",
    "differing_positions_min = [i for i in range(len(binary_data['VH Sequence'][0])) if len([s[i] for s in binary_data['VH Sequence'] if s[i] == binary_data['VH Sequence'][0][i]]) < 3990]"
   ]
  },
  {
   "cell_type": "code",
   "execution_count": 26,
   "id": "19c19ad1-480c-4b20-b83f-150d2e35d389",
   "metadata": {},
   "outputs": [
    {
     "data": {
      "text/plain": [
       "array([ 32,  49,  54,  55,  56,  98, 100, 103])"
      ]
     },
     "execution_count": 26,
     "metadata": {},
     "output_type": "execute_result"
    }
   ],
   "source": [
    "#get the intersection of these two sets\n",
    "np.intersect1d(differing_positions_min,differing_positions_threshold)"
   ]
  },
  {
   "cell_type": "code",
   "execution_count": 27,
   "id": "8793dea2-35fc-4614-80cf-07a77c9ed156",
   "metadata": {},
   "outputs": [
    {
     "data": {
      "text/plain": [
       "['YGLMRTADGRVRSVGVGGV',\n",
       " 'YGLMKGGSGRVRSDVYGGV',\n",
       " 'FGLMKRRSGRVRSVGAGGV',\n",
       " 'SGLMKAKGGRVRSAWDGGV',\n",
       " 'FGLMRERNGRVRSAAAGGV']"
      ]
     },
     "execution_count": 27,
     "metadata": {},
     "output_type": "execute_result"
    }
   ],
   "source": [
    "#get the final representation automatically\n",
    "ProteinOneHotEncoder.transform_varying_sites(binary_data['VH Sequence'])[:5]"
   ]
  },
  {
   "cell_type": "code",
   "execution_count": 28,
   "id": "245b26a9-4dd8-4f03-a279-f3472cdb7bbe",
   "metadata": {},
   "outputs": [],
   "source": [
    "#test fit_transform\n",
    "X_tr = enc.fit_transform(binary_data['sequence'])"
   ]
  },
  {
   "cell_type": "code",
   "execution_count": 29,
   "id": "96c46eb3-beec-4113-acda-8d13d670bc74",
   "metadata": {},
   "outputs": [],
   "source": [
    "#test fit and transform separately\n",
    "enc.fit(binary_data['sequence'])\n",
    "X_tr = enc.transform(binary_data['sequence'])"
   ]
  },
  {
   "cell_type": "code",
   "execution_count": 30,
   "id": "bd998b89-d6b8-4730-9060-555d190443d1",
   "metadata": {},
   "outputs": [
    {
     "data": {
      "text/plain": [
       "<4000x50 sparse matrix of type '<class 'numpy.float64'>'\n",
       "\twith 32000 stored elements in Compressed Sparse Row format>"
      ]
     },
     "execution_count": 30,
     "metadata": {},
     "output_type": "execute_result"
    }
   ],
   "source": [
    "X_tr"
   ]
  },
  {
   "cell_type": "code",
   "execution_count": 31,
   "id": "1ff418ae-288e-4e1e-b167-2440135ecff1",
   "metadata": {},
   "outputs": [
    {
     "data": {
      "text/plain": [
       "['YRTADVGV', 'YKGGSDVY', 'FKRRSVGA', 'SKAKGAWD', 'FRERNAAA']"
      ]
     },
     "execution_count": 31,
     "metadata": {},
     "output_type": "execute_result"
    }
   ],
   "source": [
    "enc.inverse_transform(X_tr)[:5]"
   ]
  },
  {
   "cell_type": "code",
   "execution_count": 32,
   "id": "f0f9934d-708d-48cd-9500-d56e8469cf4f",
   "metadata": {},
   "outputs": [],
   "source": [
    "# Zip the strings together so that we can iterate over them in parallel\n",
    "zipped_strings = binary_data['VH Sequence']\n",
    "\n",
    "# Iterate over the zipped strings and compare the characters at each position\n",
    "differing_positions = [i for i in range(len(binary_data['VH Sequence'][0])) if len(set([s[i] for s in zipped_strings])) > 1]"
   ]
  },
  {
   "cell_type": "code",
   "execution_count": 33,
   "id": "2d282c5b-7ffa-48b8-bf95-27cbe92eebe6",
   "metadata": {},
   "outputs": [
    {
     "data": {
      "text/plain": [
       "[18,\n",
       " 21,\n",
       " 32,\n",
       " 33,\n",
       " 36,\n",
       " 37,\n",
       " 41,\n",
       " 42,\n",
       " 43,\n",
       " 44,\n",
       " 45,\n",
       " 47,\n",
       " 49,\n",
       " 50,\n",
       " 54,\n",
       " 55,\n",
       " 56,\n",
       " 57,\n",
       " 64,\n",
       " 65,\n",
       " 66,\n",
       " 67,\n",
       " 80,\n",
       " 86,\n",
       " 87,\n",
       " 97,\n",
       " 98,\n",
       " 100,\n",
       " 102,\n",
       " 103,\n",
       " 104,\n",
       " 105,\n",
       " 107,\n",
       " 110,\n",
       " 114]"
      ]
     },
     "execution_count": 33,
     "metadata": {},
     "output_type": "execute_result"
    }
   ],
   "source": [
    "differing_positions"
   ]
  },
  {
   "cell_type": "code",
   "execution_count": 34,
   "id": "5f3ffd9a-c5ff-49eb-a94c-c47a65d9d16a",
   "metadata": {},
   "outputs": [
    {
     "data": {
      "text/plain": [
       "[{'K', 'N'},\n",
       " {'C', 'Y'},\n",
       " {'A', 'D', 'F', 'S', 'V', 'Y'},\n",
       " {'I', 'M'},\n",
       " {'I', 'V'},\n",
       " {'K', 'R'},\n",
       " {'D', 'G'},\n",
       " {'Q', 'R'},\n",
       " {'D', 'G'},\n",
       " {'F', 'L', 'S'},\n",
       " {'E', 'K'},\n",
       " {'I', 'M'},\n",
       " {'A', 'E', 'G', 'K', 'M', 'R', 'T'},\n",
       " {'A', 'V'},\n",
       " {'A', 'E', 'G', 'K', 'R', 'T'},\n",
       " {'A', 'E', 'G', 'K', 'R', 'T'},\n",
       " {'A', 'D', 'G', 'N', 'S', 'T'},\n",
       " {'I', 'T'},\n",
       " {'E', 'K'},\n",
       " {'G', 'S'},\n",
       " {'H', 'R'},\n",
       " {'I', 'V'},\n",
       " {'I', 'M'},\n",
       " {'K', 'R'},\n",
       " {'F', 'S'},\n",
       " {'K', 'R'},\n",
       " {'A', 'D', 'F', 'S', 'V', 'Y'},\n",
       " {'A', 'G', 'L', 'S', 'V', 'W'},\n",
       " {'D', 'N'},\n",
       " {'A', 'D', 'F', 'S', 'T', 'V', 'Y'},\n",
       " {'R', 'W'},\n",
       " {'G', 'S'},\n",
       " {'D', 'G', 'S'},\n",
       " {'I', 'V'},\n",
       " {'F', 'S'}]"
      ]
     },
     "execution_count": 34,
     "metadata": {},
     "output_type": "execute_result"
    }
   ],
   "source": [
    "[set(binary_data['VH Sequence'].str[i]) for i in differing_positions]"
   ]
  },
  {
   "cell_type": "code",
   "execution_count": null,
   "id": "044eee61-67eb-4faa-94a6-c9190e1ee23e",
   "metadata": {},
   "outputs": [],
   "source": []
  }
 ],
 "metadata": {
  "kernelspec": {
   "display_name": "Python 3 (ipykernel)",
   "language": "python",
   "name": "python3"
  },
  "language_info": {
   "codemirror_mode": {
    "name": "ipython",
    "version": 3
   },
   "file_extension": ".py",
   "mimetype": "text/x-python",
   "name": "python",
   "nbconvert_exporter": "python",
   "pygments_lexer": "ipython3",
   "version": "3.9.7"
  }
 },
 "nbformat": 4,
 "nbformat_minor": 5
}
